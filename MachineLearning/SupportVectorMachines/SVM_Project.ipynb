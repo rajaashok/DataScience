{
 "cells": [
  {
   "cell_type": "markdown",
   "metadata": {},
   "source": [
    "\n",
    "___\n",
    "# Support Vector Machines with Python\n",
    "\n",
    "#### https://www.kaggle.com/c/leaf-classification/data"
   ]
  },
  {
   "cell_type": "code",
   "execution_count": 1,
   "metadata": {
    "collapsed": true
   },
   "outputs": [],
   "source": [
    "import pandas as pd\n",
    "import numpy as np\n",
    "import matplotlib.pyplot as plt\n",
    "import seaborn as sns\n",
    "%matplotlib inline"
   ]
  },
  {
   "cell_type": "markdown",
   "metadata": {},
   "source": [
    "## Get the Data\n"
   ]
  },
  {
   "cell_type": "code",
   "execution_count": 2,
   "metadata": {
    "collapsed": true
   },
   "outputs": [],
   "source": [
    "leaf_df = pd.read_csv('train.csv')"
   ]
  },
  {
   "cell_type": "code",
   "execution_count": 3,
   "metadata": {},
   "outputs": [
    {
     "data": {
      "text/html": [
       "<div>\n",
       "<style>\n",
       "    .dataframe thead tr:only-child th {\n",
       "        text-align: right;\n",
       "    }\n",
       "\n",
       "    .dataframe thead th {\n",
       "        text-align: left;\n",
       "    }\n",
       "\n",
       "    .dataframe tbody tr th {\n",
       "        vertical-align: top;\n",
       "    }\n",
       "</style>\n",
       "<table border=\"1\" class=\"dataframe\">\n",
       "  <thead>\n",
       "    <tr style=\"text-align: right;\">\n",
       "      <th></th>\n",
       "      <th>id</th>\n",
       "      <th>species</th>\n",
       "      <th>margin1</th>\n",
       "      <th>margin2</th>\n",
       "      <th>margin3</th>\n",
       "      <th>margin4</th>\n",
       "      <th>margin5</th>\n",
       "      <th>margin6</th>\n",
       "      <th>margin7</th>\n",
       "      <th>margin8</th>\n",
       "      <th>...</th>\n",
       "      <th>texture55</th>\n",
       "      <th>texture56</th>\n",
       "      <th>texture57</th>\n",
       "      <th>texture58</th>\n",
       "      <th>texture59</th>\n",
       "      <th>texture60</th>\n",
       "      <th>texture61</th>\n",
       "      <th>texture62</th>\n",
       "      <th>texture63</th>\n",
       "      <th>texture64</th>\n",
       "    </tr>\n",
       "  </thead>\n",
       "  <tbody>\n",
       "    <tr>\n",
       "      <th>0</th>\n",
       "      <td>1</td>\n",
       "      <td>Acer_Opalus</td>\n",
       "      <td>0.007812</td>\n",
       "      <td>0.023438</td>\n",
       "      <td>0.023438</td>\n",
       "      <td>0.003906</td>\n",
       "      <td>0.011719</td>\n",
       "      <td>0.009766</td>\n",
       "      <td>0.027344</td>\n",
       "      <td>0.0</td>\n",
       "      <td>...</td>\n",
       "      <td>0.007812</td>\n",
       "      <td>0.000000</td>\n",
       "      <td>0.002930</td>\n",
       "      <td>0.002930</td>\n",
       "      <td>0.035156</td>\n",
       "      <td>0.0</td>\n",
       "      <td>0.0</td>\n",
       "      <td>0.004883</td>\n",
       "      <td>0.000000</td>\n",
       "      <td>0.025391</td>\n",
       "    </tr>\n",
       "    <tr>\n",
       "      <th>1</th>\n",
       "      <td>2</td>\n",
       "      <td>Pterocarya_Stenoptera</td>\n",
       "      <td>0.005859</td>\n",
       "      <td>0.000000</td>\n",
       "      <td>0.031250</td>\n",
       "      <td>0.015625</td>\n",
       "      <td>0.025391</td>\n",
       "      <td>0.001953</td>\n",
       "      <td>0.019531</td>\n",
       "      <td>0.0</td>\n",
       "      <td>...</td>\n",
       "      <td>0.000977</td>\n",
       "      <td>0.000000</td>\n",
       "      <td>0.000000</td>\n",
       "      <td>0.000977</td>\n",
       "      <td>0.023438</td>\n",
       "      <td>0.0</td>\n",
       "      <td>0.0</td>\n",
       "      <td>0.000977</td>\n",
       "      <td>0.039062</td>\n",
       "      <td>0.022461</td>\n",
       "    </tr>\n",
       "    <tr>\n",
       "      <th>2</th>\n",
       "      <td>3</td>\n",
       "      <td>Quercus_Hartwissiana</td>\n",
       "      <td>0.005859</td>\n",
       "      <td>0.009766</td>\n",
       "      <td>0.019531</td>\n",
       "      <td>0.007812</td>\n",
       "      <td>0.003906</td>\n",
       "      <td>0.005859</td>\n",
       "      <td>0.068359</td>\n",
       "      <td>0.0</td>\n",
       "      <td>...</td>\n",
       "      <td>0.154300</td>\n",
       "      <td>0.000000</td>\n",
       "      <td>0.005859</td>\n",
       "      <td>0.000977</td>\n",
       "      <td>0.007812</td>\n",
       "      <td>0.0</td>\n",
       "      <td>0.0</td>\n",
       "      <td>0.000000</td>\n",
       "      <td>0.020508</td>\n",
       "      <td>0.002930</td>\n",
       "    </tr>\n",
       "    <tr>\n",
       "      <th>3</th>\n",
       "      <td>5</td>\n",
       "      <td>Tilia_Tomentosa</td>\n",
       "      <td>0.000000</td>\n",
       "      <td>0.003906</td>\n",
       "      <td>0.023438</td>\n",
       "      <td>0.005859</td>\n",
       "      <td>0.021484</td>\n",
       "      <td>0.019531</td>\n",
       "      <td>0.023438</td>\n",
       "      <td>0.0</td>\n",
       "      <td>...</td>\n",
       "      <td>0.000000</td>\n",
       "      <td>0.000977</td>\n",
       "      <td>0.000000</td>\n",
       "      <td>0.000000</td>\n",
       "      <td>0.020508</td>\n",
       "      <td>0.0</td>\n",
       "      <td>0.0</td>\n",
       "      <td>0.017578</td>\n",
       "      <td>0.000000</td>\n",
       "      <td>0.047852</td>\n",
       "    </tr>\n",
       "    <tr>\n",
       "      <th>4</th>\n",
       "      <td>6</td>\n",
       "      <td>Quercus_Variabilis</td>\n",
       "      <td>0.005859</td>\n",
       "      <td>0.003906</td>\n",
       "      <td>0.048828</td>\n",
       "      <td>0.009766</td>\n",
       "      <td>0.013672</td>\n",
       "      <td>0.015625</td>\n",
       "      <td>0.005859</td>\n",
       "      <td>0.0</td>\n",
       "      <td>...</td>\n",
       "      <td>0.096680</td>\n",
       "      <td>0.000000</td>\n",
       "      <td>0.021484</td>\n",
       "      <td>0.000000</td>\n",
       "      <td>0.000000</td>\n",
       "      <td>0.0</td>\n",
       "      <td>0.0</td>\n",
       "      <td>0.000000</td>\n",
       "      <td>0.000000</td>\n",
       "      <td>0.031250</td>\n",
       "    </tr>\n",
       "  </tbody>\n",
       "</table>\n",
       "<p>5 rows × 194 columns</p>\n",
       "</div>"
      ],
      "text/plain": [
       "   id                species   margin1   margin2   margin3   margin4  \\\n",
       "0   1            Acer_Opalus  0.007812  0.023438  0.023438  0.003906   \n",
       "1   2  Pterocarya_Stenoptera  0.005859  0.000000  0.031250  0.015625   \n",
       "2   3   Quercus_Hartwissiana  0.005859  0.009766  0.019531  0.007812   \n",
       "3   5        Tilia_Tomentosa  0.000000  0.003906  0.023438  0.005859   \n",
       "4   6     Quercus_Variabilis  0.005859  0.003906  0.048828  0.009766   \n",
       "\n",
       "    margin5   margin6   margin7  margin8    ...      texture55  texture56  \\\n",
       "0  0.011719  0.009766  0.027344      0.0    ...       0.007812   0.000000   \n",
       "1  0.025391  0.001953  0.019531      0.0    ...       0.000977   0.000000   \n",
       "2  0.003906  0.005859  0.068359      0.0    ...       0.154300   0.000000   \n",
       "3  0.021484  0.019531  0.023438      0.0    ...       0.000000   0.000977   \n",
       "4  0.013672  0.015625  0.005859      0.0    ...       0.096680   0.000000   \n",
       "\n",
       "   texture57  texture58  texture59  texture60  texture61  texture62  \\\n",
       "0   0.002930   0.002930   0.035156        0.0        0.0   0.004883   \n",
       "1   0.000000   0.000977   0.023438        0.0        0.0   0.000977   \n",
       "2   0.005859   0.000977   0.007812        0.0        0.0   0.000000   \n",
       "3   0.000000   0.000000   0.020508        0.0        0.0   0.017578   \n",
       "4   0.021484   0.000000   0.000000        0.0        0.0   0.000000   \n",
       "\n",
       "   texture63  texture64  \n",
       "0   0.000000   0.025391  \n",
       "1   0.039062   0.022461  \n",
       "2   0.020508   0.002930  \n",
       "3   0.000000   0.047852  \n",
       "4   0.000000   0.031250  \n",
       "\n",
       "[5 rows x 194 columns]"
      ]
     },
     "execution_count": 3,
     "metadata": {},
     "output_type": "execute_result"
    }
   ],
   "source": [
    "leaf_df.head()"
   ]
  },
  {
   "cell_type": "code",
   "execution_count": 4,
   "metadata": {
    "scrolled": true
   },
   "outputs": [
    {
     "data": {
      "text/plain": [
       "Acer_Circinatum                10\n",
       "Alnus_Viridis                  10\n",
       "Tilia_Platyphyllos             10\n",
       "Alnus_Sieboldiana              10\n",
       "Quercus_Imbricaria             10\n",
       "Magnolia_Heptapeta             10\n",
       "Ilex_Aquifolium                10\n",
       "Ilex_Cornuta                   10\n",
       "Morus_Nigra                    10\n",
       "Acer_Opalus                    10\n",
       "Quercus_Phellos                10\n",
       "Crataegus_Monogyna             10\n",
       "Prunus_Avium                   10\n",
       "Tilia_Tomentosa                10\n",
       "Quercus_Cerris                 10\n",
       "Populus_Adenopoda              10\n",
       "Lithocarpus_Edulis             10\n",
       "Quercus_Castaneifolia          10\n",
       "Quercus_Rubra                  10\n",
       "Quercus_Trojana                10\n",
       "Quercus_Palustris              10\n",
       "Quercus_Alnifolia              10\n",
       "Acer_Rubrum                    10\n",
       "Quercus_x_Hispanica            10\n",
       "Quercus_Nigra                  10\n",
       "Acer_Mono                      10\n",
       "Cytisus_Battandieri            10\n",
       "Betula_Austrosinensis          10\n",
       "Quercus_Pyrenaica              10\n",
       "Liriodendron_Tulipifera        10\n",
       "                               ..\n",
       "Quercus_Crassifolia            10\n",
       "Acer_Capillipes                10\n",
       "Acer_Palmatum                  10\n",
       "Quercus_Pubescens              10\n",
       "Rhododendron_x_Russellianum    10\n",
       "Populus_Nigra                  10\n",
       "Pterocarya_Stenoptera          10\n",
       "Acer_Pictum                    10\n",
       "Quercus_Agrifolia              10\n",
       "Eucalyptus_Urnigera            10\n",
       "Quercus_Coccifera              10\n",
       "Liquidambar_Styraciflua        10\n",
       "Acer_Rufinerve                 10\n",
       "Cotinus_Coggygria              10\n",
       "Viburnum_Tinus                 10\n",
       "Ginkgo_Biloba                  10\n",
       "Quercus_Rhysophylla            10\n",
       "Quercus_Suber                  10\n",
       "Quercus_Crassipes              10\n",
       "Cornus_Controversa             10\n",
       "Betula_Pendula                 10\n",
       "Alnus_Cordata                  10\n",
       "Castanea_Sativa                10\n",
       "Quercus_Brantii                10\n",
       "Quercus_Shumardii              10\n",
       "Callicarpa_Bodinieri           10\n",
       "Sorbus_Aria                    10\n",
       "Acer_Platanoids                10\n",
       "Quercus_Phillyraeoides         10\n",
       "Quercus_Semecarpifolia         10\n",
       "Name: species, Length: 99, dtype: int64"
      ]
     },
     "execution_count": 4,
     "metadata": {},
     "output_type": "execute_result"
    }
   ],
   "source": [
    "leaf_df['species'].value_counts()"
   ]
  },
  {
   "cell_type": "code",
   "execution_count": 5,
   "metadata": {
    "collapsed": true
   },
   "outputs": [],
   "source": [
    "leaf_df.drop('id', axis=1, inplace=True)"
   ]
  },
  {
   "cell_type": "code",
   "execution_count": 6,
   "metadata": {},
   "outputs": [
    {
     "data": {
      "text/html": [
       "<div>\n",
       "<style>\n",
       "    .dataframe thead tr:only-child th {\n",
       "        text-align: right;\n",
       "    }\n",
       "\n",
       "    .dataframe thead th {\n",
       "        text-align: left;\n",
       "    }\n",
       "\n",
       "    .dataframe tbody tr th {\n",
       "        vertical-align: top;\n",
       "    }\n",
       "</style>\n",
       "<table border=\"1\" class=\"dataframe\">\n",
       "  <thead>\n",
       "    <tr style=\"text-align: right;\">\n",
       "      <th></th>\n",
       "      <th>species</th>\n",
       "      <th>margin1</th>\n",
       "      <th>margin2</th>\n",
       "      <th>margin3</th>\n",
       "      <th>margin4</th>\n",
       "      <th>margin5</th>\n",
       "      <th>margin6</th>\n",
       "      <th>margin7</th>\n",
       "      <th>margin8</th>\n",
       "      <th>margin9</th>\n",
       "      <th>...</th>\n",
       "      <th>texture55</th>\n",
       "      <th>texture56</th>\n",
       "      <th>texture57</th>\n",
       "      <th>texture58</th>\n",
       "      <th>texture59</th>\n",
       "      <th>texture60</th>\n",
       "      <th>texture61</th>\n",
       "      <th>texture62</th>\n",
       "      <th>texture63</th>\n",
       "      <th>texture64</th>\n",
       "    </tr>\n",
       "  </thead>\n",
       "  <tbody>\n",
       "    <tr>\n",
       "      <th>0</th>\n",
       "      <td>Acer_Opalus</td>\n",
       "      <td>0.007812</td>\n",
       "      <td>0.023438</td>\n",
       "      <td>0.023438</td>\n",
       "      <td>0.003906</td>\n",
       "      <td>0.011719</td>\n",
       "      <td>0.009766</td>\n",
       "      <td>0.027344</td>\n",
       "      <td>0.0</td>\n",
       "      <td>0.001953</td>\n",
       "      <td>...</td>\n",
       "      <td>0.007812</td>\n",
       "      <td>0.0</td>\n",
       "      <td>0.00293</td>\n",
       "      <td>0.002930</td>\n",
       "      <td>0.035156</td>\n",
       "      <td>0.0</td>\n",
       "      <td>0.0</td>\n",
       "      <td>0.004883</td>\n",
       "      <td>0.000000</td>\n",
       "      <td>0.025391</td>\n",
       "    </tr>\n",
       "    <tr>\n",
       "      <th>1</th>\n",
       "      <td>Pterocarya_Stenoptera</td>\n",
       "      <td>0.005859</td>\n",
       "      <td>0.000000</td>\n",
       "      <td>0.031250</td>\n",
       "      <td>0.015625</td>\n",
       "      <td>0.025391</td>\n",
       "      <td>0.001953</td>\n",
       "      <td>0.019531</td>\n",
       "      <td>0.0</td>\n",
       "      <td>0.000000</td>\n",
       "      <td>...</td>\n",
       "      <td>0.000977</td>\n",
       "      <td>0.0</td>\n",
       "      <td>0.00000</td>\n",
       "      <td>0.000977</td>\n",
       "      <td>0.023438</td>\n",
       "      <td>0.0</td>\n",
       "      <td>0.0</td>\n",
       "      <td>0.000977</td>\n",
       "      <td>0.039062</td>\n",
       "      <td>0.022461</td>\n",
       "    </tr>\n",
       "  </tbody>\n",
       "</table>\n",
       "<p>2 rows × 193 columns</p>\n",
       "</div>"
      ],
      "text/plain": [
       "                 species   margin1   margin2   margin3   margin4   margin5  \\\n",
       "0            Acer_Opalus  0.007812  0.023438  0.023438  0.003906  0.011719   \n",
       "1  Pterocarya_Stenoptera  0.005859  0.000000  0.031250  0.015625  0.025391   \n",
       "\n",
       "    margin6   margin7  margin8   margin9    ...      texture55  texture56  \\\n",
       "0  0.009766  0.027344      0.0  0.001953    ...       0.007812        0.0   \n",
       "1  0.001953  0.019531      0.0  0.000000    ...       0.000977        0.0   \n",
       "\n",
       "   texture57  texture58  texture59  texture60  texture61  texture62  \\\n",
       "0    0.00293   0.002930   0.035156        0.0        0.0   0.004883   \n",
       "1    0.00000   0.000977   0.023438        0.0        0.0   0.000977   \n",
       "\n",
       "   texture63  texture64  \n",
       "0   0.000000   0.025391  \n",
       "1   0.039062   0.022461  \n",
       "\n",
       "[2 rows x 193 columns]"
      ]
     },
     "execution_count": 6,
     "metadata": {},
     "output_type": "execute_result"
    }
   ],
   "source": [
    "leaf_df.head(2)"
   ]
  },
  {
   "cell_type": "code",
   "execution_count": 7,
   "metadata": {
    "collapsed": true
   },
   "outputs": [],
   "source": [
    "predictors = leaf_df.drop('species', axis = 1)\n",
    "target = leaf_df['species']"
   ]
  },
  {
   "cell_type": "markdown",
   "metadata": {},
   "source": [
    "## Train Test Split"
   ]
  },
  {
   "cell_type": "code",
   "execution_count": 8,
   "metadata": {
    "collapsed": true
   },
   "outputs": [],
   "source": [
    "from sklearn.model_selection import train_test_split"
   ]
  },
  {
   "cell_type": "code",
   "execution_count": 9,
   "metadata": {
    "collapsed": true
   },
   "outputs": [],
   "source": [
    "X_train, X_test, y_train, y_test = train_test_split(predictors, target, test_size=0.30, random_state=101, stratify = target)"
   ]
  },
  {
   "cell_type": "markdown",
   "metadata": {},
   "source": [
    "# Train the Support Vector Classifier"
   ]
  },
  {
   "cell_type": "code",
   "execution_count": 10,
   "metadata": {
    "collapsed": true
   },
   "outputs": [],
   "source": [
    "from sklearn.svm import SVC"
   ]
  },
  {
   "cell_type": "code",
   "execution_count": 11,
   "metadata": {
    "collapsed": true
   },
   "outputs": [],
   "source": [
    "svc = SVC()"
   ]
  },
  {
   "cell_type": "code",
   "execution_count": 12,
   "metadata": {},
   "outputs": [
    {
     "data": {
      "text/plain": [
       "SVC(C=1.0, cache_size=200, class_weight=None, coef0=0.0,\n",
       "  decision_function_shape=None, degree=3, gamma='auto', kernel='rbf',\n",
       "  max_iter=-1, probability=False, random_state=None, shrinking=True,\n",
       "  tol=0.001, verbose=False)"
      ]
     },
     "execution_count": 12,
     "metadata": {},
     "output_type": "execute_result"
    }
   ],
   "source": [
    "svc.fit(X_train,y_train)"
   ]
  },
  {
   "cell_type": "markdown",
   "metadata": {},
   "source": [
    "## Predictions and Evaluations\n",
    "\n",
    "Now let's predict using the trained model."
   ]
  },
  {
   "cell_type": "code",
   "execution_count": 13,
   "metadata": {
    "collapsed": true
   },
   "outputs": [],
   "source": [
    "predictions = svc.predict(X_test)"
   ]
  },
  {
   "cell_type": "code",
   "execution_count": 14,
   "metadata": {
    "collapsed": true
   },
   "outputs": [],
   "source": [
    "from sklearn.metrics import classification_report,confusion_matrix, accuracy_score"
   ]
  },
  {
   "cell_type": "code",
   "execution_count": 15,
   "metadata": {},
   "outputs": [
    {
     "name": "stdout",
     "output_type": "stream",
     "text": [
      "[[3 0 0 ..., 0 0 0]\n",
      " [0 3 0 ..., 0 0 0]\n",
      " [0 0 3 ..., 0 0 0]\n",
      " ..., \n",
      " [0 0 0 ..., 3 0 0]\n",
      " [0 0 0 ..., 0 3 0]\n",
      " [0 1 0 ..., 0 0 2]]\n"
     ]
    }
   ],
   "source": [
    "print(confusion_matrix(y_test,predictions))"
   ]
  },
  {
   "cell_type": "code",
   "execution_count": 16,
   "metadata": {},
   "outputs": [
    {
     "name": "stdout",
     "output_type": "stream",
     "text": [
      "                              precision    recall  f1-score   support\n",
      "\n",
      "             Acer_Capillipes       1.00      1.00      1.00         3\n",
      "             Acer_Circinatum       0.75      1.00      0.86         3\n",
      "                   Acer_Mono       1.00      1.00      1.00         3\n",
      "                 Acer_Opalus       0.67      0.67      0.67         3\n",
      "               Acer_Palmatum       1.00      1.00      1.00         3\n",
      "                 Acer_Pictum       1.00      0.67      0.80         3\n",
      "             Acer_Platanoids       1.00      0.67      0.80         3\n",
      "                 Acer_Rubrum       0.60      1.00      0.75         3\n",
      "              Acer_Rufinerve       1.00      1.00      1.00         3\n",
      "            Acer_Saccharinum       1.00      1.00      1.00         3\n",
      "               Alnus_Cordata       0.75      1.00      0.86         3\n",
      "          Alnus_Maximowiczii       0.75      1.00      0.86         3\n",
      "                 Alnus_Rubra       1.00      0.67      0.80         3\n",
      "           Alnus_Sieboldiana       0.00      0.00      0.00         3\n",
      "               Alnus_Viridis       1.00      1.00      1.00         3\n",
      "         Arundinaria_Simonii       1.00      0.67      0.80         3\n",
      "       Betula_Austrosinensis       1.00      1.00      1.00         3\n",
      "              Betula_Pendula       0.50      0.33      0.40         3\n",
      "        Callicarpa_Bodinieri       1.00      0.67      0.80         3\n",
      "             Castanea_Sativa       0.50      0.67      0.57         3\n",
      "           Celtis_Koraiensis       0.75      1.00      0.86         3\n",
      "         Cercis_Siliquastrum       1.00      0.67      0.80         3\n",
      "            Cornus_Chinensis       1.00      1.00      1.00         3\n",
      "          Cornus_Controversa       1.00      1.00      1.00         3\n",
      "          Cornus_Macrophylla       1.00      1.00      1.00         3\n",
      "           Cotinus_Coggygria       1.00      1.00      1.00         3\n",
      "          Crataegus_Monogyna       0.00      0.00      0.00         3\n",
      "         Cytisus_Battandieri       1.00      1.00      1.00         3\n",
      "      Eucalyptus_Glaucescens       0.50      0.33      0.40         3\n",
      "         Eucalyptus_Neglecta       0.67      0.67      0.67         3\n",
      "         Eucalyptus_Urnigera       0.33      0.33      0.33         3\n",
      "             Fagus_Sylvatica       1.00      0.33      0.50         3\n",
      "               Ginkgo_Biloba       0.00      0.00      0.00         3\n",
      "             Ilex_Aquifolium       1.00      1.00      1.00         3\n",
      "                Ilex_Cornuta       0.00      0.00      0.00         3\n",
      "     Liquidambar_Styraciflua       1.00      1.00      1.00         3\n",
      "     Liriodendron_Tulipifera       0.50      0.33      0.40         3\n",
      "   Lithocarpus_Cleistocarpus       0.75      1.00      0.86         3\n",
      "          Lithocarpus_Edulis       1.00      1.00      1.00         3\n",
      "          Magnolia_Heptapeta       0.75      1.00      0.86         3\n",
      "        Magnolia_Salicifolia       0.60      1.00      0.75         3\n",
      "                 Morus_Nigra       0.75      1.00      0.86         3\n",
      "               Olea_Europaea       1.00      0.33      0.50         3\n",
      "                 Phildelphus       1.00      1.00      1.00         3\n",
      "           Populus_Adenopoda       1.00      0.33      0.50         3\n",
      "       Populus_Grandidentata       1.00      1.00      1.00         3\n",
      "               Populus_Nigra       0.50      1.00      0.67         3\n",
      "                Prunus_Avium       0.00      0.00      0.00         3\n",
      "           Prunus_X_Shmittii       1.00      1.00      1.00         3\n",
      "       Pterocarya_Stenoptera       0.50      0.33      0.40         3\n",
      "              Quercus_Afares       0.40      0.67      0.50         3\n",
      "           Quercus_Agrifolia       0.50      1.00      0.67         3\n",
      "           Quercus_Alnifolia       0.75      1.00      0.86         3\n",
      "             Quercus_Brantii       0.75      1.00      0.86         3\n",
      "         Quercus_Canariensis       1.00      0.67      0.80         3\n",
      "       Quercus_Castaneifolia       0.50      0.67      0.57         3\n",
      "              Quercus_Cerris       0.50      1.00      0.67         3\n",
      "         Quercus_Chrysolepis       0.67      0.67      0.67         3\n",
      "           Quercus_Coccifera       0.40      0.67      0.50         3\n",
      "            Quercus_Coccinea       1.00      1.00      1.00         3\n",
      "         Quercus_Crassifolia       1.00      0.67      0.80         3\n",
      "           Quercus_Crassipes       1.00      1.00      1.00         3\n",
      "        Quercus_Dolicholepis       0.75      1.00      0.86         3\n",
      "       Quercus_Ellipsoidalis       1.00      0.33      0.50         3\n",
      "             Quercus_Greggii       0.33      0.33      0.33         3\n",
      "        Quercus_Hartwissiana       1.00      1.00      1.00         3\n",
      "                Quercus_Ilex       1.00      0.33      0.50         3\n",
      "          Quercus_Imbricaria       0.43      1.00      0.60         3\n",
      "      Quercus_Infectoria_sub       0.50      1.00      0.67         3\n",
      "            Quercus_Kewensis       1.00      0.33      0.50         3\n",
      "               Quercus_Nigra       1.00      0.67      0.80         3\n",
      "           Quercus_Palustris       0.60      1.00      0.75         3\n",
      "             Quercus_Phellos       0.75      1.00      0.86         3\n",
      "      Quercus_Phillyraeoides       1.00      0.67      0.80         3\n",
      "             Quercus_Pontica       1.00      0.67      0.80         3\n",
      "           Quercus_Pubescens       1.00      1.00      1.00         3\n",
      "           Quercus_Pyrenaica       0.75      1.00      0.86         3\n",
      "         Quercus_Rhysophylla       1.00      1.00      1.00         3\n",
      "               Quercus_Rubra       1.00      1.00      1.00         3\n",
      "      Quercus_Semecarpifolia       0.00      0.00      0.00         3\n",
      "           Quercus_Shumardii       1.00      1.00      1.00         3\n",
      "               Quercus_Suber       0.50      0.67      0.57         3\n",
      "              Quercus_Texana       1.00      1.00      1.00         3\n",
      "             Quercus_Trojana       0.67      0.67      0.67         3\n",
      "          Quercus_Variabilis       1.00      0.67      0.80         3\n",
      "           Quercus_Vulcanica       1.00      1.00      1.00         3\n",
      "         Quercus_x_Hispanica       0.67      0.67      0.67         3\n",
      "           Quercus_x_Turneri       0.75      1.00      0.86         3\n",
      " Rhododendron_x_Russellianum       1.00      0.67      0.80         3\n",
      "              Salix_Fragilis       1.00      0.67      0.80         3\n",
      "              Salix_Intergra       0.75      1.00      0.86         3\n",
      "                 Sorbus_Aria       1.00      1.00      1.00         3\n",
      "               Tilia_Oliveri       1.00      1.00      1.00         3\n",
      "          Tilia_Platyphyllos       0.75      1.00      0.86         3\n",
      "             Tilia_Tomentosa       1.00      1.00      1.00         3\n",
      "          Ulmus_Bergmanniana       1.00      1.00      1.00         3\n",
      "              Viburnum_Tinus       0.50      1.00      0.67         3\n",
      "Viburnum_x_Rhytidophylloides       0.75      1.00      0.86         3\n",
      "             Zelkova_Serrata       1.00      0.67      0.80         3\n",
      "\n",
      "                 avg / total       0.78      0.77      0.75       297\n",
      "\n"
     ]
    },
    {
     "name": "stderr",
     "output_type": "stream",
     "text": [
      "C:\\Users\\rnbolla\\AppData\\Local\\Continuum\\Anaconda3\\lib\\site-packages\\sklearn\\metrics\\classification.py:1113: UndefinedMetricWarning: Precision and F-score are ill-defined and being set to 0.0 in labels with no predicted samples.\n",
      "  'precision', 'predicted', average, warn_for)\n"
     ]
    }
   ],
   "source": [
    "print(classification_report(y_test,predictions))"
   ]
  },
  {
   "cell_type": "code",
   "execution_count": 17,
   "metadata": {},
   "outputs": [
    {
     "name": "stdout",
     "output_type": "stream",
     "text": [
      "0.774410774411\n"
     ]
    }
   ],
   "source": [
    "print(accuracy_score(y_test, predictions))"
   ]
  },
  {
   "cell_type": "markdown",
   "metadata": {},
   "source": [
    "# Gridsearch\n",
    "\n",
    "Finding the right parameters (like what C or gamma values to use) is a tricky task! But luckily, we can be a little lazy and just try a bunch of combinations and see what works best! This idea of creating a 'grid' of parameters and just trying out all the possible combinations is called a Gridsearch, this method is common enough that Scikit-learn has this functionality built in with GridSearchCV! The CV stands for cross-validation\n",
    "\n",
    "GridSearchCV takes a dictionary that describes the parameters that should be tried and a model to train. The grid of parameters is defined as a dictionary, where the keys are the parameters and the values are the settings to be tested. "
   ]
  },
  {
   "cell_type": "code",
   "execution_count": 18,
   "metadata": {
    "collapsed": true
   },
   "outputs": [],
   "source": [
    "param_grid = {'C': [0.1,1, 10, 100, 1000], 'gamma': [1,0.1,0.01,0.001,0.0001], 'kernel': ['rbf', 'poly']} "
   ]
  },
  {
   "cell_type": "code",
   "execution_count": 19,
   "metadata": {
    "collapsed": true
   },
   "outputs": [],
   "source": [
    "from sklearn.model_selection import GridSearchCV"
   ]
  },
  {
   "cell_type": "markdown",
   "metadata": {},
   "source": [
    "One of the great things about GridSearchCV is that it is a meta-estimator. It takes an estimator like SVC, and creates a new estimator, that behaves exactly the same - in this case, like a classifier. You should add refit=True and choose verbose to whatever number you want, higher the number, the more verbose (verbose just means the text output describing the process)."
   ]
  },
  {
   "cell_type": "code",
   "execution_count": 20,
   "metadata": {
    "collapsed": true
   },
   "outputs": [],
   "source": [
    "grid = GridSearchCV(SVC(),param_grid,refit=True, verbose=3)\n",
    "#grid = GridSearchCV(SVC(),param_grid,refit=True, cv =5, verbose=3)"
   ]
  },
  {
   "cell_type": "markdown",
   "metadata": {},
   "source": [
    "What fit does is a bit more involved then usual. First, it runs the same loop with cross-validation, to find the best parameter combination. Once it has the best combination, it runs fit again on all data passed to fit (without cross-validation), to built a single new model using the best parameter setting."
   ]
  },
  {
   "cell_type": "code",
   "execution_count": 21,
   "metadata": {
    "scrolled": true
   },
   "outputs": [
    {
     "name": "stdout",
     "output_type": "stream",
     "text": [
      "Fitting 3 folds for each of 50 candidates, totalling 150 fits\n",
      "[CV] C=0.1, gamma=1, kernel=rbf ......................................\n",
      "[CV] ....... C=0.1, gamma=1, kernel=rbf, score=0.747475, total=   0.1s\n",
      "[CV] C=0.1, gamma=1, kernel=rbf ......................................\n"
     ]
    },
    {
     "name": "stderr",
     "output_type": "stream",
     "text": [
      "[Parallel(n_jobs=1)]: Done   1 out of   1 | elapsed:    0.2s remaining:    0.0s\n"
     ]
    },
    {
     "name": "stdout",
     "output_type": "stream",
     "text": [
      "[CV] ....... C=0.1, gamma=1, kernel=rbf, score=0.747475, total=   0.2s\n",
      "[CV] C=0.1, gamma=1, kernel=rbf ......................................\n"
     ]
    },
    {
     "name": "stderr",
     "output_type": "stream",
     "text": [
      "[Parallel(n_jobs=1)]: Done   2 out of   2 | elapsed:    0.7s remaining:    0.0s\n"
     ]
    },
    {
     "name": "stdout",
     "output_type": "stream",
     "text": [
      "[CV] ....... C=0.1, gamma=1, kernel=rbf, score=0.808081, total=   0.2s\n",
      "[CV] C=0.1, gamma=1, kernel=poly .....................................\n",
      "[CV] ...... C=0.1, gamma=1, kernel=poly, score=0.619529, total=   0.1s\n",
      "[CV] C=0.1, gamma=1, kernel=poly .....................................\n",
      "[CV] ...... C=0.1, gamma=1, kernel=poly, score=0.671717, total=   0.1s\n",
      "[CV] C=0.1, gamma=1, kernel=poly .....................................\n",
      "[CV] ...... C=0.1, gamma=1, kernel=poly, score=0.681818, total=   0.1s\n",
      "[CV] C=0.1, gamma=0.1, kernel=rbf ....................................\n",
      "[CV] ..... C=0.1, gamma=0.1, kernel=rbf, score=0.750842, total=   0.1s\n",
      "[CV] C=0.1, gamma=0.1, kernel=rbf ....................................\n",
      "[CV] ..... C=0.1, gamma=0.1, kernel=rbf, score=0.737374, total=   0.2s\n",
      "[CV] C=0.1, gamma=0.1, kernel=rbf ....................................\n",
      "[CV] ..... C=0.1, gamma=0.1, kernel=rbf, score=0.803030, total=   0.2s\n",
      "[CV] C=0.1, gamma=0.1, kernel=poly ...................................\n",
      "[CV] .... C=0.1, gamma=0.1, kernel=poly, score=0.619529, total=   0.1s\n",
      "[CV] C=0.1, gamma=0.1, kernel=poly ...................................\n",
      "[CV] .... C=0.1, gamma=0.1, kernel=poly, score=0.671717, total=   0.1s\n",
      "[CV] C=0.1, gamma=0.1, kernel=poly ...................................\n",
      "[CV] .... C=0.1, gamma=0.1, kernel=poly, score=0.681818, total=   0.1s\n",
      "[CV] C=0.1, gamma=0.01, kernel=rbf ...................................\n",
      "[CV] .... C=0.1, gamma=0.01, kernel=rbf, score=0.750842, total=   0.1s\n",
      "[CV] C=0.1, gamma=0.01, kernel=rbf ...................................\n",
      "[CV] .... C=0.1, gamma=0.01, kernel=rbf, score=0.737374, total=   0.2s\n",
      "[CV] C=0.1, gamma=0.01, kernel=rbf ...................................\n",
      "[CV] .... C=0.1, gamma=0.01, kernel=rbf, score=0.803030, total=   0.2s\n",
      "[CV] C=0.1, gamma=0.01, kernel=poly ..................................\n",
      "[CV] ... C=0.1, gamma=0.01, kernel=poly, score=0.619529, total=   0.1s\n",
      "[CV] C=0.1, gamma=0.01, kernel=poly ..................................\n",
      "[CV] ... C=0.1, gamma=0.01, kernel=poly, score=0.671717, total=   0.1s\n",
      "[CV] C=0.1, gamma=0.01, kernel=poly ..................................\n",
      "[CV] ... C=0.1, gamma=0.01, kernel=poly, score=0.681818, total=   0.2s\n",
      "[CV] C=0.1, gamma=0.001, kernel=rbf ..................................\n",
      "[CV] ... C=0.1, gamma=0.001, kernel=rbf, score=0.750842, total=   0.1s\n",
      "[CV] C=0.1, gamma=0.001, kernel=rbf ..................................\n",
      "[CV] ... C=0.1, gamma=0.001, kernel=rbf, score=0.737374, total=   0.2s\n",
      "[CV] C=0.1, gamma=0.001, kernel=rbf ..................................\n",
      "[CV] ... C=0.1, gamma=0.001, kernel=rbf, score=0.803030, total=   0.2s\n",
      "[CV] C=0.1, gamma=0.001, kernel=poly .................................\n",
      "[CV] .. C=0.1, gamma=0.001, kernel=poly, score=0.619529, total=   0.1s\n",
      "[CV] C=0.1, gamma=0.001, kernel=poly .................................\n",
      "[CV] .. C=0.1, gamma=0.001, kernel=poly, score=0.671717, total=   0.1s\n",
      "[CV] C=0.1, gamma=0.001, kernel=poly .................................\n",
      "[CV] .. C=0.1, gamma=0.001, kernel=poly, score=0.681818, total=   0.1s\n",
      "[CV] C=0.1, gamma=0.0001, kernel=rbf .................................\n",
      "[CV] .. C=0.1, gamma=0.0001, kernel=rbf, score=0.750842, total=   0.1s\n",
      "[CV] C=0.1, gamma=0.0001, kernel=rbf .................................\n",
      "[CV] .. C=0.1, gamma=0.0001, kernel=rbf, score=0.737374, total=   0.2s\n",
      "[CV] C=0.1, gamma=0.0001, kernel=rbf .................................\n",
      "[CV] .. C=0.1, gamma=0.0001, kernel=rbf, score=0.803030, total=   0.2s\n",
      "[CV] C=0.1, gamma=0.0001, kernel=poly ................................\n",
      "[CV] . C=0.1, gamma=0.0001, kernel=poly, score=0.552189, total=   0.1s\n",
      "[CV] C=0.1, gamma=0.0001, kernel=poly ................................\n",
      "[CV] . C=0.1, gamma=0.0001, kernel=poly, score=0.570707, total=   0.1s\n",
      "[CV] C=0.1, gamma=0.0001, kernel=poly ................................\n",
      "[CV] . C=0.1, gamma=0.0001, kernel=poly, score=0.565657, total=   0.2s\n",
      "[CV] C=1, gamma=1, kernel=rbf ........................................\n",
      "[CV] ......... C=1, gamma=1, kernel=rbf, score=0.747475, total=   0.1s\n",
      "[CV] C=1, gamma=1, kernel=rbf ........................................\n",
      "[CV] ......... C=1, gamma=1, kernel=rbf, score=0.747475, total=   0.2s\n",
      "[CV] C=1, gamma=1, kernel=rbf ........................................\n",
      "[CV] ......... C=1, gamma=1, kernel=rbf, score=0.808081, total=   0.2s\n",
      "[CV] C=1, gamma=1, kernel=poly .......................................\n",
      "[CV] ........ C=1, gamma=1, kernel=poly, score=0.619529, total=   0.1s\n",
      "[CV] C=1, gamma=1, kernel=poly .......................................\n",
      "[CV] ........ C=1, gamma=1, kernel=poly, score=0.671717, total=   0.2s\n",
      "[CV] C=1, gamma=1, kernel=poly .......................................\n",
      "[CV] ........ C=1, gamma=1, kernel=poly, score=0.681818, total=   0.2s\n",
      "[CV] C=1, gamma=0.1, kernel=rbf ......................................\n",
      "[CV] ....... C=1, gamma=0.1, kernel=rbf, score=0.750842, total=   0.1s\n",
      "[CV] C=1, gamma=0.1, kernel=rbf ......................................\n",
      "[CV] ....... C=1, gamma=0.1, kernel=rbf, score=0.737374, total=   0.2s\n",
      "[CV] C=1, gamma=0.1, kernel=rbf ......................................\n",
      "[CV] ....... C=1, gamma=0.1, kernel=rbf, score=0.803030, total=   0.2s\n",
      "[CV] C=1, gamma=0.1, kernel=poly .....................................\n",
      "[CV] ...... C=1, gamma=0.1, kernel=poly, score=0.619529, total=   0.1s\n",
      "[CV] C=1, gamma=0.1, kernel=poly .....................................\n",
      "[CV] ...... C=1, gamma=0.1, kernel=poly, score=0.671717, total=   0.1s\n",
      "[CV] C=1, gamma=0.1, kernel=poly .....................................\n",
      "[CV] ...... C=1, gamma=0.1, kernel=poly, score=0.681818, total=   0.1s\n",
      "[CV] C=1, gamma=0.01, kernel=rbf .....................................\n",
      "[CV] ...... C=1, gamma=0.01, kernel=rbf, score=0.750842, total=   0.1s\n",
      "[CV] C=1, gamma=0.01, kernel=rbf .....................................\n",
      "[CV] ...... C=1, gamma=0.01, kernel=rbf, score=0.737374, total=   0.2s\n",
      "[CV] C=1, gamma=0.01, kernel=rbf .....................................\n",
      "[CV] ...... C=1, gamma=0.01, kernel=rbf, score=0.803030, total=   0.2s\n",
      "[CV] C=1, gamma=0.01, kernel=poly ....................................\n",
      "[CV] ..... C=1, gamma=0.01, kernel=poly, score=0.619529, total=   0.1s\n",
      "[CV] C=1, gamma=0.01, kernel=poly ....................................\n",
      "[CV] ..... C=1, gamma=0.01, kernel=poly, score=0.671717, total=   0.1s\n",
      "[CV] C=1, gamma=0.01, kernel=poly ....................................\n",
      "[CV] ..... C=1, gamma=0.01, kernel=poly, score=0.681818, total=   0.2s\n",
      "[CV] C=1, gamma=0.001, kernel=rbf ....................................\n",
      "[CV] ..... C=1, gamma=0.001, kernel=rbf, score=0.750842, total=   0.1s\n",
      "[CV] C=1, gamma=0.001, kernel=rbf ....................................\n",
      "[CV] ..... C=1, gamma=0.001, kernel=rbf, score=0.737374, total=   0.2s\n",
      "[CV] C=1, gamma=0.001, kernel=rbf ....................................\n",
      "[CV] ..... C=1, gamma=0.001, kernel=rbf, score=0.803030, total=   0.2s\n",
      "[CV] C=1, gamma=0.001, kernel=poly ...................................\n",
      "[CV] .... C=1, gamma=0.001, kernel=poly, score=0.619529, total=   0.1s\n",
      "[CV] C=1, gamma=0.001, kernel=poly ...................................\n",
      "[CV] .... C=1, gamma=0.001, kernel=poly, score=0.671717, total=   0.2s\n",
      "[CV] C=1, gamma=0.001, kernel=poly ...................................\n",
      "[CV] .... C=1, gamma=0.001, kernel=poly, score=0.681818, total=   0.1s\n",
      "[CV] C=1, gamma=0.0001, kernel=rbf ...................................\n",
      "[CV] .... C=1, gamma=0.0001, kernel=rbf, score=0.750842, total=   0.1s\n",
      "[CV] C=1, gamma=0.0001, kernel=rbf ...................................\n",
      "[CV] .... C=1, gamma=0.0001, kernel=rbf, score=0.737374, total=   0.2s\n",
      "[CV] C=1, gamma=0.0001, kernel=rbf ...................................\n",
      "[CV] .... C=1, gamma=0.0001, kernel=rbf, score=0.803030, total=   0.2s\n",
      "[CV] C=1, gamma=0.0001, kernel=poly ..................................\n",
      "[CV] ... C=1, gamma=0.0001, kernel=poly, score=0.612795, total=   0.1s\n",
      "[CV] C=1, gamma=0.0001, kernel=poly ..................................\n",
      "[CV] ... C=1, gamma=0.0001, kernel=poly, score=0.666667, total=   0.1s\n",
      "[CV] C=1, gamma=0.0001, kernel=poly ..................................\n",
      "[CV] ... C=1, gamma=0.0001, kernel=poly, score=0.676768, total=   0.1s\n",
      "[CV] C=10, gamma=1, kernel=rbf .......................................\n"
     ]
    },
    {
     "name": "stdout",
     "output_type": "stream",
     "text": [
      "[CV] ........ C=10, gamma=1, kernel=rbf, score=0.835017, total=   0.1s\n",
      "[CV] C=10, gamma=1, kernel=rbf .......................................\n",
      "[CV] ........ C=10, gamma=1, kernel=rbf, score=0.858586, total=   0.2s\n",
      "[CV] C=10, gamma=1, kernel=rbf .......................................\n",
      "[CV] ........ C=10, gamma=1, kernel=rbf, score=0.914141, total=   0.1s\n",
      "[CV] C=10, gamma=1, kernel=poly ......................................\n",
      "[CV] ....... C=10, gamma=1, kernel=poly, score=0.619529, total=   0.1s\n",
      "[CV] C=10, gamma=1, kernel=poly ......................................\n",
      "[CV] ....... C=10, gamma=1, kernel=poly, score=0.671717, total=   0.1s\n",
      "[CV] C=10, gamma=1, kernel=poly ......................................\n",
      "[CV] ....... C=10, gamma=1, kernel=poly, score=0.681818, total=   0.1s\n",
      "[CV] C=10, gamma=0.1, kernel=rbf .....................................\n",
      "[CV] ...... C=10, gamma=0.1, kernel=rbf, score=0.750842, total=   0.1s\n",
      "[CV] C=10, gamma=0.1, kernel=rbf .....................................\n",
      "[CV] ...... C=10, gamma=0.1, kernel=rbf, score=0.737374, total=   0.2s\n",
      "[CV] C=10, gamma=0.1, kernel=rbf .....................................\n",
      "[CV] ...... C=10, gamma=0.1, kernel=rbf, score=0.803030, total=   0.2s\n",
      "[CV] C=10, gamma=0.1, kernel=poly ....................................\n",
      "[CV] ..... C=10, gamma=0.1, kernel=poly, score=0.619529, total=   0.1s\n",
      "[CV] C=10, gamma=0.1, kernel=poly ....................................\n",
      "[CV] ..... C=10, gamma=0.1, kernel=poly, score=0.671717, total=   0.1s\n",
      "[CV] C=10, gamma=0.1, kernel=poly ....................................\n",
      "[CV] ..... C=10, gamma=0.1, kernel=poly, score=0.681818, total=   0.1s\n",
      "[CV] C=10, gamma=0.01, kernel=rbf ....................................\n",
      "[CV] ..... C=10, gamma=0.01, kernel=rbf, score=0.750842, total=   0.1s\n",
      "[CV] C=10, gamma=0.01, kernel=rbf ....................................\n",
      "[CV] ..... C=10, gamma=0.01, kernel=rbf, score=0.737374, total=   0.2s\n",
      "[CV] C=10, gamma=0.01, kernel=rbf ....................................\n",
      "[CV] ..... C=10, gamma=0.01, kernel=rbf, score=0.803030, total=   0.2s\n",
      "[CV] C=10, gamma=0.01, kernel=poly ...................................\n",
      "[CV] .... C=10, gamma=0.01, kernel=poly, score=0.619529, total=   0.1s\n",
      "[CV] C=10, gamma=0.01, kernel=poly ...................................\n",
      "[CV] .... C=10, gamma=0.01, kernel=poly, score=0.671717, total=   0.1s\n",
      "[CV] C=10, gamma=0.01, kernel=poly ...................................\n",
      "[CV] .... C=10, gamma=0.01, kernel=poly, score=0.681818, total=   0.1s\n",
      "[CV] C=10, gamma=0.001, kernel=rbf ...................................\n",
      "[CV] .... C=10, gamma=0.001, kernel=rbf, score=0.750842, total=   0.1s\n",
      "[CV] C=10, gamma=0.001, kernel=rbf ...................................\n",
      "[CV] .... C=10, gamma=0.001, kernel=rbf, score=0.737374, total=   0.2s\n",
      "[CV] C=10, gamma=0.001, kernel=rbf ...................................\n",
      "[CV] .... C=10, gamma=0.001, kernel=rbf, score=0.803030, total=   0.2s\n",
      "[CV] C=10, gamma=0.001, kernel=poly ..................................\n",
      "[CV] ... C=10, gamma=0.001, kernel=poly, score=0.619529, total=   0.1s\n",
      "[CV] C=10, gamma=0.001, kernel=poly ..................................\n",
      "[CV] ... C=10, gamma=0.001, kernel=poly, score=0.671717, total=   0.1s\n",
      "[CV] C=10, gamma=0.001, kernel=poly ..................................\n",
      "[CV] ... C=10, gamma=0.001, kernel=poly, score=0.681818, total=   0.1s\n",
      "[CV] C=10, gamma=0.0001, kernel=rbf ..................................\n",
      "[CV] ... C=10, gamma=0.0001, kernel=rbf, score=0.750842, total=   0.1s\n",
      "[CV] C=10, gamma=0.0001, kernel=rbf ..................................\n",
      "[CV] ... C=10, gamma=0.0001, kernel=rbf, score=0.737374, total=   0.2s\n",
      "[CV] C=10, gamma=0.0001, kernel=rbf ..................................\n",
      "[CV] ... C=10, gamma=0.0001, kernel=rbf, score=0.803030, total=   0.2s\n",
      "[CV] C=10, gamma=0.0001, kernel=poly .................................\n",
      "[CV] .. C=10, gamma=0.0001, kernel=poly, score=0.619529, total=   0.1s\n",
      "[CV] C=10, gamma=0.0001, kernel=poly .................................\n",
      "[CV] .. C=10, gamma=0.0001, kernel=poly, score=0.671717, total=   0.2s\n",
      "[CV] C=10, gamma=0.0001, kernel=poly .................................\n",
      "[CV] .. C=10, gamma=0.0001, kernel=poly, score=0.676768, total=   0.2s\n",
      "[CV] C=100, gamma=1, kernel=rbf ......................................\n",
      "[CV] ....... C=100, gamma=1, kernel=rbf, score=0.868687, total=   0.1s\n",
      "[CV] C=100, gamma=1, kernel=rbf ......................................\n",
      "[CV] ....... C=100, gamma=1, kernel=rbf, score=0.893939, total=   0.2s\n",
      "[CV] C=100, gamma=1, kernel=rbf ......................................\n",
      "[CV] ....... C=100, gamma=1, kernel=rbf, score=0.954545, total=   0.2s\n",
      "[CV] C=100, gamma=1, kernel=poly .....................................\n",
      "[CV] ...... C=100, gamma=1, kernel=poly, score=0.643098, total=   0.1s\n",
      "[CV] C=100, gamma=1, kernel=poly .....................................\n",
      "[CV] ...... C=100, gamma=1, kernel=poly, score=0.686869, total=   0.2s\n",
      "[CV] C=100, gamma=1, kernel=poly .....................................\n",
      "[CV] ...... C=100, gamma=1, kernel=poly, score=0.717172, total=   0.1s\n",
      "[CV] C=100, gamma=0.1, kernel=rbf ....................................\n",
      "[CV] ..... C=100, gamma=0.1, kernel=rbf, score=0.835017, total=   0.1s\n",
      "[CV] C=100, gamma=0.1, kernel=rbf ....................................\n",
      "[CV] ..... C=100, gamma=0.1, kernel=rbf, score=0.858586, total=   0.1s\n",
      "[CV] C=100, gamma=0.1, kernel=rbf ....................................\n",
      "[CV] ..... C=100, gamma=0.1, kernel=rbf, score=0.929293, total=   0.2s\n",
      "[CV] C=100, gamma=0.1, kernel=poly ...................................\n",
      "[CV] .... C=100, gamma=0.1, kernel=poly, score=0.619529, total=   0.1s\n",
      "[CV] C=100, gamma=0.1, kernel=poly ...................................\n",
      "[CV] .... C=100, gamma=0.1, kernel=poly, score=0.671717, total=   0.1s\n",
      "[CV] C=100, gamma=0.1, kernel=poly ...................................\n",
      "[CV] .... C=100, gamma=0.1, kernel=poly, score=0.681818, total=   0.2s\n",
      "[CV] C=100, gamma=0.01, kernel=rbf ...................................\n",
      "[CV] .... C=100, gamma=0.01, kernel=rbf, score=0.750842, total=   0.1s\n",
      "[CV] C=100, gamma=0.01, kernel=rbf ...................................\n",
      "[CV] .... C=100, gamma=0.01, kernel=rbf, score=0.737374, total=   0.2s\n",
      "[CV] C=100, gamma=0.01, kernel=rbf ...................................\n",
      "[CV] .... C=100, gamma=0.01, kernel=rbf, score=0.803030, total=   0.2s\n",
      "[CV] C=100, gamma=0.01, kernel=poly ..................................\n",
      "[CV] ... C=100, gamma=0.01, kernel=poly, score=0.619529, total=   0.1s\n",
      "[CV] C=100, gamma=0.01, kernel=poly ..................................\n",
      "[CV] ... C=100, gamma=0.01, kernel=poly, score=0.671717, total=   0.1s\n",
      "[CV] C=100, gamma=0.01, kernel=poly ..................................\n",
      "[CV] ... C=100, gamma=0.01, kernel=poly, score=0.681818, total=   0.2s\n",
      "[CV] C=100, gamma=0.001, kernel=rbf ..................................\n",
      "[CV] ... C=100, gamma=0.001, kernel=rbf, score=0.750842, total=   0.1s\n",
      "[CV] C=100, gamma=0.001, kernel=rbf ..................................\n",
      "[CV] ... C=100, gamma=0.001, kernel=rbf, score=0.737374, total=   0.2s\n",
      "[CV] C=100, gamma=0.001, kernel=rbf ..................................\n",
      "[CV] ... C=100, gamma=0.001, kernel=rbf, score=0.803030, total=   0.2s\n",
      "[CV] C=100, gamma=0.001, kernel=poly .................................\n",
      "[CV] .. C=100, gamma=0.001, kernel=poly, score=0.619529, total=   0.1s\n",
      "[CV] C=100, gamma=0.001, kernel=poly .................................\n",
      "[CV] .. C=100, gamma=0.001, kernel=poly, score=0.671717, total=   0.1s\n",
      "[CV] C=100, gamma=0.001, kernel=poly .................................\n",
      "[CV] .. C=100, gamma=0.001, kernel=poly, score=0.681818, total=   0.2s\n",
      "[CV] C=100, gamma=0.0001, kernel=rbf .................................\n",
      "[CV] .. C=100, gamma=0.0001, kernel=rbf, score=0.750842, total=   0.1s\n",
      "[CV] C=100, gamma=0.0001, kernel=rbf .................................\n",
      "[CV] .. C=100, gamma=0.0001, kernel=rbf, score=0.737374, total=   0.2s\n",
      "[CV] C=100, gamma=0.0001, kernel=rbf .................................\n",
      "[CV] .. C=100, gamma=0.0001, kernel=rbf, score=0.803030, total=   0.2s\n",
      "[CV] C=100, gamma=0.0001, kernel=poly ................................\n",
      "[CV] . C=100, gamma=0.0001, kernel=poly, score=0.619529, total=   0.1s\n",
      "[CV] C=100, gamma=0.0001, kernel=poly ................................\n"
     ]
    },
    {
     "name": "stdout",
     "output_type": "stream",
     "text": [
      "[CV] . C=100, gamma=0.0001, kernel=poly, score=0.671717, total=   0.1s\n",
      "[CV] C=100, gamma=0.0001, kernel=poly ................................\n",
      "[CV] . C=100, gamma=0.0001, kernel=poly, score=0.681818, total=   0.1s\n",
      "[CV] C=1000, gamma=1, kernel=rbf .....................................\n",
      "[CV] ...... C=1000, gamma=1, kernel=rbf, score=0.868687, total=   0.2s\n",
      "[CV] C=1000, gamma=1, kernel=rbf .....................................\n",
      "[CV] ...... C=1000, gamma=1, kernel=rbf, score=0.893939, total=   0.2s\n",
      "[CV] C=1000, gamma=1, kernel=rbf .....................................\n",
      "[CV] ...... C=1000, gamma=1, kernel=rbf, score=0.954545, total=   0.2s\n",
      "[CV] C=1000, gamma=1, kernel=poly ....................................\n",
      "[CV] ..... C=1000, gamma=1, kernel=poly, score=0.784512, total=   0.1s\n",
      "[CV] C=1000, gamma=1, kernel=poly ....................................\n",
      "[CV] ..... C=1000, gamma=1, kernel=poly, score=0.803030, total=   0.2s\n",
      "[CV] C=1000, gamma=1, kernel=poly ....................................\n",
      "[CV] ..... C=1000, gamma=1, kernel=poly, score=0.873737, total=   0.2s\n",
      "[CV] C=1000, gamma=0.1, kernel=rbf ...................................\n",
      "[CV] .... C=1000, gamma=0.1, kernel=rbf, score=0.872054, total=   0.2s\n",
      "[CV] C=1000, gamma=0.1, kernel=rbf ...................................\n",
      "[CV] .... C=1000, gamma=0.1, kernel=rbf, score=0.888889, total=   0.2s\n",
      "[CV] C=1000, gamma=0.1, kernel=rbf ...................................\n",
      "[CV] .... C=1000, gamma=0.1, kernel=rbf, score=0.954545, total=   0.1s\n",
      "[CV] C=1000, gamma=0.1, kernel=poly ..................................\n",
      "[CV] ... C=1000, gamma=0.1, kernel=poly, score=0.619529, total=   0.1s\n",
      "[CV] C=1000, gamma=0.1, kernel=poly ..................................\n",
      "[CV] ... C=1000, gamma=0.1, kernel=poly, score=0.671717, total=   0.2s\n",
      "[CV] C=1000, gamma=0.1, kernel=poly ..................................\n",
      "[CV] ... C=1000, gamma=0.1, kernel=poly, score=0.681818, total=   0.1s\n",
      "[CV] C=1000, gamma=0.01, kernel=rbf ..................................\n",
      "[CV] ... C=1000, gamma=0.01, kernel=rbf, score=0.835017, total=   0.1s\n",
      "[CV] C=1000, gamma=0.01, kernel=rbf ..................................\n",
      "[CV] ... C=1000, gamma=0.01, kernel=rbf, score=0.858586, total=   0.2s\n",
      "[CV] C=1000, gamma=0.01, kernel=rbf ..................................\n",
      "[CV] ... C=1000, gamma=0.01, kernel=rbf, score=0.929293, total=   0.2s\n",
      "[CV] C=1000, gamma=0.01, kernel=poly .................................\n",
      "[CV] .. C=1000, gamma=0.01, kernel=poly, score=0.619529, total=   0.1s\n",
      "[CV] C=1000, gamma=0.01, kernel=poly .................................\n",
      "[CV] .. C=1000, gamma=0.01, kernel=poly, score=0.671717, total=   0.1s\n",
      "[CV] C=1000, gamma=0.01, kernel=poly .................................\n",
      "[CV] .. C=1000, gamma=0.01, kernel=poly, score=0.681818, total=   0.2s\n",
      "[CV] C=1000, gamma=0.001, kernel=rbf .................................\n",
      "[CV] .. C=1000, gamma=0.001, kernel=rbf, score=0.750842, total=   0.1s\n",
      "[CV] C=1000, gamma=0.001, kernel=rbf .................................\n",
      "[CV] .. C=1000, gamma=0.001, kernel=rbf, score=0.737374, total=   0.2s\n",
      "[CV] C=1000, gamma=0.001, kernel=rbf .................................\n",
      "[CV] .. C=1000, gamma=0.001, kernel=rbf, score=0.803030, total=   0.2s\n",
      "[CV] C=1000, gamma=0.001, kernel=poly ................................\n",
      "[CV] . C=1000, gamma=0.001, kernel=poly, score=0.619529, total=   0.1s\n",
      "[CV] C=1000, gamma=0.001, kernel=poly ................................\n",
      "[CV] . C=1000, gamma=0.001, kernel=poly, score=0.671717, total=   0.2s\n",
      "[CV] C=1000, gamma=0.001, kernel=poly ................................\n",
      "[CV] . C=1000, gamma=0.001, kernel=poly, score=0.681818, total=   0.1s\n",
      "[CV] C=1000, gamma=0.0001, kernel=rbf ................................\n",
      "[CV] . C=1000, gamma=0.0001, kernel=rbf, score=0.750842, total=   0.1s\n",
      "[CV] C=1000, gamma=0.0001, kernel=rbf ................................\n",
      "[CV] . C=1000, gamma=0.0001, kernel=rbf, score=0.737374, total=   0.2s\n",
      "[CV] C=1000, gamma=0.0001, kernel=rbf ................................\n",
      "[CV] . C=1000, gamma=0.0001, kernel=rbf, score=0.803030, total=   0.2s\n",
      "[CV] C=1000, gamma=0.0001, kernel=poly ...............................\n",
      "[CV]  C=1000, gamma=0.0001, kernel=poly, score=0.619529, total=   0.1s\n",
      "[CV] C=1000, gamma=0.0001, kernel=poly ...............................\n",
      "[CV]  C=1000, gamma=0.0001, kernel=poly, score=0.671717, total=   0.1s\n",
      "[CV] C=1000, gamma=0.0001, kernel=poly ...............................\n",
      "[CV]  C=1000, gamma=0.0001, kernel=poly, score=0.681818, total=   0.2s\n"
     ]
    },
    {
     "name": "stderr",
     "output_type": "stream",
     "text": [
      "[Parallel(n_jobs=1)]: Done 150 out of 150 | elapsed:   55.0s finished\n"
     ]
    },
    {
     "data": {
      "text/plain": [
       "GridSearchCV(cv=None, error_score='raise',\n",
       "       estimator=SVC(C=1.0, cache_size=200, class_weight=None, coef0=0.0,\n",
       "  decision_function_shape=None, degree=3, gamma='auto', kernel='rbf',\n",
       "  max_iter=-1, probability=False, random_state=None, shrinking=True,\n",
       "  tol=0.001, verbose=False),\n",
       "       fit_params={}, iid=True, n_jobs=1,\n",
       "       param_grid={'C': [0.1, 1, 10, 100, 1000], 'gamma': [1, 0.1, 0.01, 0.001, 0.0001], 'kernel': ['rbf', 'poly']},\n",
       "       pre_dispatch='2*n_jobs', refit=True, return_train_score=True,\n",
       "       scoring=None, verbose=3)"
      ]
     },
     "execution_count": 21,
     "metadata": {},
     "output_type": "execute_result"
    }
   ],
   "source": [
    "# May take awhile!\n",
    "grid.fit(X_train,y_train)"
   ]
  },
  {
   "cell_type": "markdown",
   "metadata": {},
   "source": [
    "You can inspect the best parameters found by GridSearchCV in the best_params_ attribute, and the best estimator in the best\\_estimator_ attribute:"
   ]
  },
  {
   "cell_type": "code",
   "execution_count": 22,
   "metadata": {},
   "outputs": [
    {
     "data": {
      "text/plain": [
       "{'C': 100, 'gamma': 1, 'kernel': 'rbf'}"
      ]
     },
     "execution_count": 22,
     "metadata": {},
     "output_type": "execute_result"
    }
   ],
   "source": [
    "grid.best_params_"
   ]
  },
  {
   "cell_type": "code",
   "execution_count": 23,
   "metadata": {},
   "outputs": [
    {
     "data": {
      "text/plain": [
       "SVC(C=100, cache_size=200, class_weight=None, coef0=0.0,\n",
       "  decision_function_shape=None, degree=3, gamma=1, kernel='rbf',\n",
       "  max_iter=-1, probability=False, random_state=None, shrinking=True,\n",
       "  tol=0.001, verbose=False)"
      ]
     },
     "execution_count": 23,
     "metadata": {},
     "output_type": "execute_result"
    }
   ],
   "source": [
    "grid.best_estimator_"
   ]
  },
  {
   "cell_type": "code",
   "execution_count": 24,
   "metadata": {},
   "outputs": [
    {
     "data": {
      "text/plain": [
       "0.90043290043290047"
      ]
     },
     "execution_count": 24,
     "metadata": {},
     "output_type": "execute_result"
    }
   ],
   "source": [
    "grid.best_score_"
   ]
  },
  {
   "cell_type": "markdown",
   "metadata": {},
   "source": [
    "Then you can re-run predictions on this grid object just like you would with a normal model."
   ]
  },
  {
   "cell_type": "code",
   "execution_count": 25,
   "metadata": {
    "collapsed": true
   },
   "outputs": [],
   "source": [
    "grid_predictions = grid.predict(X_test)"
   ]
  },
  {
   "cell_type": "code",
   "execution_count": 26,
   "metadata": {},
   "outputs": [
    {
     "name": "stdout",
     "output_type": "stream",
     "text": [
      "[[3 0 0 ..., 0 0 0]\n",
      " [0 3 0 ..., 0 0 0]\n",
      " [0 0 3 ..., 0 0 0]\n",
      " ..., \n",
      " [0 0 0 ..., 3 0 0]\n",
      " [0 0 0 ..., 0 3 0]\n",
      " [0 0 0 ..., 0 0 3]]\n"
     ]
    }
   ],
   "source": [
    "print(confusion_matrix(y_test,grid_predictions))"
   ]
  },
  {
   "cell_type": "code",
   "execution_count": 27,
   "metadata": {},
   "outputs": [
    {
     "name": "stdout",
     "output_type": "stream",
     "text": [
      "                              precision    recall  f1-score   support\n",
      "\n",
      "             Acer_Capillipes       1.00      1.00      1.00         3\n",
      "             Acer_Circinatum       1.00      1.00      1.00         3\n",
      "                   Acer_Mono       1.00      1.00      1.00         3\n",
      "                 Acer_Opalus       1.00      0.67      0.80         3\n",
      "               Acer_Palmatum       1.00      1.00      1.00         3\n",
      "                 Acer_Pictum       1.00      1.00      1.00         3\n",
      "             Acer_Platanoids       1.00      1.00      1.00         3\n",
      "                 Acer_Rubrum       0.75      1.00      0.86         3\n",
      "              Acer_Rufinerve       1.00      1.00      1.00         3\n",
      "            Acer_Saccharinum       1.00      1.00      1.00         3\n",
      "               Alnus_Cordata       0.75      1.00      0.86         3\n",
      "          Alnus_Maximowiczii       0.75      1.00      0.86         3\n",
      "                 Alnus_Rubra       1.00      1.00      1.00         3\n",
      "           Alnus_Sieboldiana       0.67      0.67      0.67         3\n",
      "               Alnus_Viridis       1.00      1.00      1.00         3\n",
      "         Arundinaria_Simonii       1.00      0.67      0.80         3\n",
      "       Betula_Austrosinensis       1.00      1.00      1.00         3\n",
      "              Betula_Pendula       1.00      0.67      0.80         3\n",
      "        Callicarpa_Bodinieri       1.00      0.67      0.80         3\n",
      "             Castanea_Sativa       1.00      0.67      0.80         3\n",
      "           Celtis_Koraiensis       1.00      1.00      1.00         3\n",
      "         Cercis_Siliquastrum       1.00      1.00      1.00         3\n",
      "            Cornus_Chinensis       1.00      1.00      1.00         3\n",
      "          Cornus_Controversa       1.00      1.00      1.00         3\n",
      "          Cornus_Macrophylla       1.00      1.00      1.00         3\n",
      "           Cotinus_Coggygria       1.00      1.00      1.00         3\n",
      "          Crataegus_Monogyna       0.00      0.00      0.00         3\n",
      "         Cytisus_Battandieri       1.00      1.00      1.00         3\n",
      "      Eucalyptus_Glaucescens       0.75      1.00      0.86         3\n",
      "         Eucalyptus_Neglecta       1.00      1.00      1.00         3\n",
      "         Eucalyptus_Urnigera       0.67      0.67      0.67         3\n",
      "             Fagus_Sylvatica       1.00      1.00      1.00         3\n",
      "               Ginkgo_Biloba       1.00      1.00      1.00         3\n",
      "             Ilex_Aquifolium       1.00      1.00      1.00         3\n",
      "                Ilex_Cornuta       0.67      0.67      0.67         3\n",
      "     Liquidambar_Styraciflua       1.00      1.00      1.00         3\n",
      "     Liriodendron_Tulipifera       0.75      1.00      0.86         3\n",
      "   Lithocarpus_Cleistocarpus       1.00      1.00      1.00         3\n",
      "          Lithocarpus_Edulis       1.00      1.00      1.00         3\n",
      "          Magnolia_Heptapeta       1.00      1.00      1.00         3\n",
      "        Magnolia_Salicifolia       1.00      1.00      1.00         3\n",
      "                 Morus_Nigra       1.00      1.00      1.00         3\n",
      "               Olea_Europaea       1.00      1.00      1.00         3\n",
      "                 Phildelphus       1.00      1.00      1.00         3\n",
      "           Populus_Adenopoda       1.00      1.00      1.00         3\n",
      "       Populus_Grandidentata       1.00      1.00      1.00         3\n",
      "               Populus_Nigra       1.00      1.00      1.00         3\n",
      "                Prunus_Avium       0.75      1.00      0.86         3\n",
      "           Prunus_X_Shmittii       1.00      1.00      1.00         3\n",
      "       Pterocarya_Stenoptera       1.00      1.00      1.00         3\n",
      "              Quercus_Afares       1.00      0.67      0.80         3\n",
      "           Quercus_Agrifolia       1.00      1.00      1.00         3\n",
      "           Quercus_Alnifolia       0.75      1.00      0.86         3\n",
      "             Quercus_Brantii       0.75      1.00      0.86         3\n",
      "         Quercus_Canariensis       1.00      1.00      1.00         3\n",
      "       Quercus_Castaneifolia       1.00      0.67      0.80         3\n",
      "              Quercus_Cerris       0.75      1.00      0.86         3\n",
      "         Quercus_Chrysolepis       1.00      1.00      1.00         3\n",
      "           Quercus_Coccifera       0.67      0.67      0.67         3\n",
      "            Quercus_Coccinea       1.00      1.00      1.00         3\n",
      "         Quercus_Crassifolia       1.00      1.00      1.00         3\n",
      "           Quercus_Crassipes       1.00      1.00      1.00         3\n",
      "        Quercus_Dolicholepis       1.00      1.00      1.00         3\n",
      "       Quercus_Ellipsoidalis       1.00      0.33      0.50         3\n",
      "             Quercus_Greggii       0.75      1.00      0.86         3\n",
      "        Quercus_Hartwissiana       1.00      1.00      1.00         3\n",
      "                Quercus_Ilex       1.00      1.00      1.00         3\n",
      "          Quercus_Imbricaria       1.00      1.00      1.00         3\n",
      "      Quercus_Infectoria_sub       1.00      1.00      1.00         3\n",
      "            Quercus_Kewensis       0.60      1.00      0.75         3\n",
      "               Quercus_Nigra       1.00      1.00      1.00         3\n",
      "           Quercus_Palustris       0.75      1.00      0.86         3\n",
      "             Quercus_Phellos       1.00      1.00      1.00         3\n",
      "      Quercus_Phillyraeoides       1.00      1.00      1.00         3\n",
      "             Quercus_Pontica       1.00      1.00      1.00         3\n",
      "           Quercus_Pubescens       1.00      1.00      1.00         3\n",
      "           Quercus_Pyrenaica       1.00      1.00      1.00         3\n",
      "         Quercus_Rhysophylla       1.00      1.00      1.00         3\n",
      "               Quercus_Rubra       1.00      1.00      1.00         3\n",
      "      Quercus_Semecarpifolia       1.00      0.33      0.50         3\n",
      "           Quercus_Shumardii       0.75      1.00      0.86         3\n",
      "               Quercus_Suber       1.00      0.67      0.80         3\n",
      "              Quercus_Texana       1.00      1.00      1.00         3\n",
      "             Quercus_Trojana       1.00      1.00      1.00         3\n",
      "          Quercus_Variabilis       1.00      1.00      1.00         3\n",
      "           Quercus_Vulcanica       1.00      1.00      1.00         3\n",
      "         Quercus_x_Hispanica       1.00      0.67      0.80         3\n",
      "           Quercus_x_Turneri       1.00      1.00      1.00         3\n",
      " Rhododendron_x_Russellianum       1.00      1.00      1.00         3\n",
      "              Salix_Fragilis       1.00      1.00      1.00         3\n",
      "              Salix_Intergra       1.00      1.00      1.00         3\n",
      "                 Sorbus_Aria       1.00      1.00      1.00         3\n",
      "               Tilia_Oliveri       1.00      1.00      1.00         3\n",
      "          Tilia_Platyphyllos       1.00      1.00      1.00         3\n",
      "             Tilia_Tomentosa       1.00      1.00      1.00         3\n",
      "          Ulmus_Bergmanniana       1.00      1.00      1.00         3\n",
      "              Viburnum_Tinus       0.75      1.00      0.86         3\n",
      "Viburnum_x_Rhytidophylloides       0.75      1.00      0.86         3\n",
      "             Zelkova_Serrata       1.00      1.00      1.00         3\n",
      "\n",
      "                 avg / total       0.94      0.93      0.93       297\n",
      "\n"
     ]
    },
    {
     "name": "stderr",
     "output_type": "stream",
     "text": [
      "C:\\Users\\rnbolla\\AppData\\Local\\Continuum\\Anaconda3\\lib\\site-packages\\sklearn\\metrics\\classification.py:1113: UndefinedMetricWarning: Precision and F-score are ill-defined and being set to 0.0 in labels with no predicted samples.\n",
      "  'precision', 'predicted', average, warn_for)\n"
     ]
    }
   ],
   "source": [
    "print(classification_report(y_test,grid_predictions))"
   ]
  },
  {
   "cell_type": "code",
   "execution_count": 28,
   "metadata": {},
   "outputs": [
    {
     "name": "stdout",
     "output_type": "stream",
     "text": [
      "0.93265993266\n"
     ]
    }
   ],
   "source": [
    "print(accuracy_score(y_test, grid_predictions))"
   ]
  },
  {
   "cell_type": "code",
   "execution_count": null,
   "metadata": {
    "collapsed": true
   },
   "outputs": [],
   "source": []
  },
  {
   "cell_type": "markdown",
   "metadata": {},
   "source": [
    "## Lets test on Stratified Shuffling"
   ]
  },
  {
   "cell_type": "code",
   "execution_count": 29,
   "metadata": {
    "collapsed": true
   },
   "outputs": [],
   "source": [
    "leaf_df = pd.read_csv('train.csv')"
   ]
  },
  {
   "cell_type": "code",
   "execution_count": 30,
   "metadata": {
    "collapsed": true
   },
   "outputs": [],
   "source": [
    "from sklearn.model_selection import StratifiedShuffleSplit\n",
    "    \n",
    "sss = StratifiedShuffleSplit(n_splits=3, test_size=0.3, random_state=10)   \n",
    "\n",
    "#sss.get_n_splits(predictors, y)\n",
    "\n",
    "svc = SVC(C=100, cache_size=200, class_weight=None, coef0=0.0,\n",
    "  decision_function_shape=None, degree=3, gamma=1, kernel='rbf',\n",
    "  max_iter=-1, probability=False, random_state=None, shrinking=True,\n",
    "  tol=0.001, verbose=False)\n",
    "\n",
    "acc_rate = []\n",
    "X = leaf_df.drop(['species'], axis = 1)\n",
    "y = leaf_df['species']\n",
    "\n",
    "for train_index, test_index in sss.split(X, y):\n",
    "    #print(\"TRAIN:\", train_index, \"TEST:\", test_index)\n",
    "    X_train, X_test = X.iloc[train_index], X.iloc[test_index]\n",
    "    y_train, y_test = y[train_index], y[test_index]\n",
    "    svc.fit(X_train, y_train)\n",
    "    preds = svc.predict(X_test)\n",
    "    acc_rate.append(accuracy_score(y_test, preds)) "
   ]
  },
  {
   "cell_type": "code",
   "execution_count": 31,
   "metadata": {},
   "outputs": [
    {
     "data": {
      "text/plain": [
       "[0.016835016835016835, 0.010101010101010102, 0.0033670033670033669]"
      ]
     },
     "execution_count": 31,
     "metadata": {},
     "output_type": "execute_result"
    }
   ],
   "source": [
    "acc_rate"
   ]
  },
  {
   "cell_type": "code",
   "execution_count": 32,
   "metadata": {
    "collapsed": true
   },
   "outputs": [],
   "source": [
    "# You can also try the combination of CV and GridSearch to find the best params"
   ]
  },
  {
   "cell_type": "code",
   "execution_count": null,
   "metadata": {},
   "outputs": [],
   "source": [
    "C_range = [0.1,1, 10]\n",
    "gamma_range = [1,0.1,0.01]\n",
    "kernel_range = ['poly','rbf']\n",
    "param_grid = dict(gamma=gamma_range, C=C_range, kernel= kernel_range)\n",
    "\n",
    "cv = StratifiedShuffleSplit(n_splits=3, test_size=0.2, random_state=42)\n",
    "grid = GridSearchCV(SVC(), param_grid=param_grid, cv=cv, verbose=2)\n",
    "grid.fit(X, y)\n",
    "\n"
   ]
  },
  {
   "cell_type": "code",
   "execution_count": null,
   "metadata": {},
   "outputs": [],
   "source": [
    "print(\"The best parameters are %s with a score of %0.2f\"\n",
    "      % (grid.best_params_, grid.best_score_))"
   ]
  },
  {
   "cell_type": "markdown",
   "metadata": {},
   "source": [
    "## Comparision of various classifiers\n",
    "\n",
    "#### https://www.kaggle.com/jeffd23/10-classifier-showdown-in-scikit-learn"
   ]
  },
  {
   "cell_type": "code",
   "execution_count": null,
   "metadata": {
    "collapsed": true
   },
   "outputs": [],
   "source": []
  }
 ],
 "metadata": {
  "kernelspec": {
   "display_name": "Python 3",
   "language": "python",
   "name": "python3"
  },
  "language_info": {
   "codemirror_mode": {
    "name": "ipython",
    "version": 3
   },
   "file_extension": ".py",
   "mimetype": "text/x-python",
   "name": "python",
   "nbconvert_exporter": "python",
   "pygments_lexer": "ipython3",
   "version": "3.6.1"
  }
 },
 "nbformat": 4,
 "nbformat_minor": 1
}
