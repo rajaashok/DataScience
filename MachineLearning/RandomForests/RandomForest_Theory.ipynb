{
 "cells": [
  {
   "cell_type": "markdown",
   "metadata": {},
   "source": [
    "## Random Forests\n",
    "\n",
    "    Random Forest is a ensemble method based on decision trees\n",
    "    \n",
    "    One of the popular and accurate algorithms\n",
    "    \n",
    "    \n",
    "    What is an ensemble method?\n",
    "        -> Build multiple models based on random predictors and data [in our case decision trees]\n",
    "        -> Each model will predict the outcome\n",
    "        -> A vote is taken on all results to find the best answer\n",
    "        \n",
    "        \n",
    "    Example:\n",
    "        -> Let's say we have Random Forest on n_estimators = 50\n",
    "        -> So Random Forest algorithm builds 50 decision trees internally and saves all of them\n",
    "        -> While predictions the Random Forest algorithm calculates 50 outcomes based on 50 models\n",
    "        -> A vote is then taken to pick the majority class. For an email, if 40 models say SPAM and 10 models say HAM, then the output is going to be SPAM"
   ]
  },
  {
   "cell_type": "markdown",
   "metadata": {},
   "source": [
    "### Note\n",
    "\n",
    "While building decision trees, A Random Forest model picks a subset of rows and columns randomly in every model. \n",
    "\n",
    "Suppose if we have 10 rows and 5 predictors:\n",
    "    \n",
    "       -> Model 1 - can pick 8 rows and 4 predictors\n",
    "       -> Model 2 - can pick 6 rows and 3 predictors\n",
    "       -> so on"
   ]
  },
  {
   "cell_type": "markdown",
   "metadata": {},
   "source": [
    "## Advantages\n",
    "\n",
    "    Highly accurate\n",
    "    Efficient on large number of predictors\n",
    "    Very good with missing data\n",
    "    \n",
    "## Disadvantages\n",
    "\n",
    "    Time consuming, resource consuming\n",
    "    For categorical variables, bias might exist if the classes are disproportionate\n",
    "   \n",
    "## Use cases\n",
    "\n",
    "    Competitions\n",
    "    Medical diagnosis"
   ]
  },
  {
   "cell_type": "code",
   "execution_count": null,
   "metadata": {
    "collapsed": true
   },
   "outputs": [],
   "source": []
  }
 ],
 "metadata": {
  "kernelspec": {
   "display_name": "Python 3",
   "language": "python",
   "name": "python3"
  },
  "language_info": {
   "codemirror_mode": {
    "name": "ipython",
    "version": 3
   },
   "file_extension": ".py",
   "mimetype": "text/x-python",
   "name": "python",
   "nbconvert_exporter": "python",
   "pygments_lexer": "ipython3",
   "version": "3.6.1"
  }
 },
 "nbformat": 4,
 "nbformat_minor": 2
}
