{
 "cells": [
  {
   "cell_type": "markdown",
   "metadata": {},
   "source": [
    "## Comparison of various clustering algorithms"
   ]
  },
  {
   "cell_type": "code",
   "execution_count": 1,
   "metadata": {
    "collapsed": true
   },
   "outputs": [],
   "source": [
    "import pandas as pd\n",
    "import numpy as np\n",
    "\n",
    "\n",
    "import matplotlib.pyplot as plt\n",
    "import seaborn as sns\n",
    "%matplotlib inline"
   ]
  },
  {
   "cell_type": "code",
   "execution_count": 2,
   "metadata": {
    "collapsed": true
   },
   "outputs": [],
   "source": [
    "from sklearn.datasets import make_moons\n",
    "\n",
    "X, y = make_moons(n_samples=200, noise=0.05, random_state=0)\n"
   ]
  },
  {
   "cell_type": "code",
   "execution_count": 3,
   "metadata": {},
   "outputs": [
    {
     "data": {
      "text/plain": [
       "array([[ 0.81680544,  0.5216447 ],\n",
       "       [ 1.61859642, -0.37982927],\n",
       "       [-0.02126953,  0.27372826],\n",
       "       [-1.02181041, -0.07543984],\n",
       "       [ 1.76654633, -0.17069874],\n",
       "       [ 1.8820287 , -0.04238449],\n",
       "       [ 0.97481551,  0.20999374],\n",
       "       [ 0.88798782, -0.48936735],\n",
       "       [ 0.89865156,  0.36637762],\n",
       "       [ 1.11638974, -0.53460385],\n",
       "       [-0.36380036,  0.82790185],\n",
       "       [ 0.24702417, -0.23856676],\n",
       "       [ 1.81658658, -0.13088387],\n",
       "       [ 1.2163905 , -0.40685761],\n",
       "       [-0.8236696 ,  0.64235178],\n",
       "       [ 0.98065583,  0.20850838],\n",
       "       [ 0.54097175,  0.88616823],\n",
       "       [ 0.348031  , -0.30101351],\n",
       "       [ 0.35181497,  0.88827765],\n",
       "       [-0.77708642,  0.82253872],\n",
       "       [ 1.92590813,  0.01214146],\n",
       "       [ 0.86096723, -0.47653216],\n",
       "       [ 0.19990695,  0.99672359],\n",
       "       [ 1.2895301 , -0.37071087],\n",
       "       [-0.27847636,  1.02538452],\n",
       "       [ 0.24187916, -0.07627812],\n",
       "       [ 1.84988768, -0.09773674],\n",
       "       [ 1.88406869,  0.0449402 ],\n",
       "       [ 0.165822  , -0.08613126],\n",
       "       [ 0.13861369,  0.89639036],\n",
       "       [ 0.89087024,  0.52265882],\n",
       "       [-0.22806587,  0.84091882],\n",
       "       [ 0.98279208, -0.46457771],\n",
       "       [ 0.04237749,  0.19457898],\n",
       "       [ 0.76422612,  0.67223332],\n",
       "       [ 1.91108938,  0.21178339],\n",
       "       [ 0.43608432, -0.23007221],\n",
       "       [ 0.96186938,  0.09923426],\n",
       "       [-0.84336684,  0.52414334],\n",
       "       [-0.04122466,  0.35721873],\n",
       "       [ 0.55507653, -0.42493298],\n",
       "       [-0.4388286 ,  0.85940389],\n",
       "       [ 0.6532646 ,  0.71235382],\n",
       "       [ 0.10274835,  0.06721414],\n",
       "       [ 1.5486824 , -0.34012196],\n",
       "       [-0.37318371,  0.95506411],\n",
       "       [ 1.01706978,  0.19210044],\n",
       "       [-0.71923685,  0.65476676],\n",
       "       [ 0.16135772, -0.10771978],\n",
       "       [ 0.86434045, -0.4594568 ],\n",
       "       [-0.69717533,  0.80133734],\n",
       "       [ 0.32791175, -0.19619019],\n",
       "       [ 1.98046734,  0.03848682],\n",
       "       [-0.90479784,  0.05723938],\n",
       "       [ 1.04515397, -0.50020349],\n",
       "       [ 0.7534213 ,  0.65688005],\n",
       "       [ 0.54968577,  0.73635744],\n",
       "       [ 1.24038086, -0.47577903],\n",
       "       [ 0.24918868,  0.94246199],\n",
       "       [-0.20756105,  0.99290594],\n",
       "       [ 0.35136403, -0.29065432],\n",
       "       [-1.01628753,  0.16290244],\n",
       "       [ 1.78137056, -0.1244931 ],\n",
       "       [ 0.87423825,  0.53065346],\n",
       "       [ 1.09997644, -0.46733763],\n",
       "       [-1.07022744,  0.2365448 ],\n",
       "       [-0.15869858,  1.01497482],\n",
       "       [ 1.46569247, -0.3808977 ],\n",
       "       [ 0.03025209,  0.97792142],\n",
       "       [-0.9365943 ,  0.45674926],\n",
       "       [ 0.66038307, -0.46576222],\n",
       "       [-0.99144728,  0.40662094],\n",
       "       [ 0.46339847, -0.46605416],\n",
       "       [-0.132006  ,  0.52447234],\n",
       "       [ 0.81566997, -0.42821617],\n",
       "       [-0.94820947,  0.37717096],\n",
       "       [ 0.05300205,  0.18597406],\n",
       "       [ 0.92648634,  0.40988975],\n",
       "       [ 0.60689997,  0.78279323],\n",
       "       [ 0.72961391, -0.37215252],\n",
       "       [ 1.9796026 ,  0.12425417],\n",
       "       [-0.02053902,  0.97601558],\n",
       "       [ 0.63818364, -0.49916763],\n",
       "       [ 2.00639179,  0.44597642],\n",
       "       [ 0.02315539,  0.24035667],\n",
       "       [-0.35883877,  1.02716833],\n",
       "       [ 0.95414653,  0.04177433],\n",
       "       [-0.33921532,  0.96308888],\n",
       "       [ 0.59950492, -0.39774852],\n",
       "       [ 1.99019644,  0.39360049],\n",
       "       [ 0.33125729,  0.9365782 ],\n",
       "       [ 0.99460422,  0.35063363],\n",
       "       [ 1.98845457,  0.2628361 ],\n",
       "       [-0.67473718,  0.76419738],\n",
       "       [ 2.00751107,  0.3651166 ],\n",
       "       [ 1.78298331, -0.11490401],\n",
       "       [ 1.73616653, -0.22781554],\n",
       "       [ 0.40646216, -0.25422904],\n",
       "       [-1.02505346,  0.24337404],\n",
       "       [ 0.06414296,  0.07759793],\n",
       "       [ 1.30092145, -0.58089757],\n",
       "       [ 1.97425572,  0.30889897],\n",
       "       [ 0.03228388,  1.07937745],\n",
       "       [ 1.03086156, -0.02389082],\n",
       "       [-0.90062492,  0.30653639],\n",
       "       [ 0.08068561,  0.29131373],\n",
       "       [-0.98807765,  0.1039765 ],\n",
       "       [-0.47394435,  0.96143212],\n",
       "       [ 1.54651932, -0.35008497],\n",
       "       [ 0.23332453,  0.89648984],\n",
       "       [-0.58481687,  0.80318956],\n",
       "       [ 0.0374878 ,  1.02322111],\n",
       "       [-0.01943215,  1.07001032],\n",
       "       [-0.85323667,  0.39896937],\n",
       "       [ 0.92635535,  0.37695326],\n",
       "       [ 1.43250553, -0.50148981],\n",
       "       [ 0.60622756,  0.66229531],\n",
       "       [ 1.94401554,  0.13685573],\n",
       "       [ 0.57984414, -0.39868907],\n",
       "       [ 0.74317519,  0.50998316],\n",
       "       [ 0.87116686,  0.54105191],\n",
       "       [-0.71045745,  0.57281877],\n",
       "       [-0.03081568,  0.33644614],\n",
       "       [-0.0298505 ,  0.99553114],\n",
       "       [-0.06313347,  0.42194174],\n",
       "       [-0.79223214,  0.68354165],\n",
       "       [ 0.92098434,  0.04171051],\n",
       "       [ 0.17794377,  0.04536893],\n",
       "       [ 1.34934828, -0.3941652 ],\n",
       "       [ 1.98387143,  0.50898445],\n",
       "       [ 1.00104892,  0.27158454],\n",
       "       [-0.5425424 ,  0.76257612],\n",
       "       [-0.9969011 ,  0.47226403],\n",
       "       [ 0.23408511, -0.15381658],\n",
       "       [ 1.21437019, -0.40862022],\n",
       "       [ 1.60101745, -0.17940652],\n",
       "       [ 1.15844202, -0.40408591],\n",
       "       [-1.00922523,  0.2161359 ],\n",
       "       [ 2.01865957,  0.50313426],\n",
       "       [ 0.88839866,  0.39017093],\n",
       "       [ 0.10170896, -0.01206481],\n",
       "       [-0.01241966,  0.47064905],\n",
       "       [ 0.44566504,  0.94595998],\n",
       "       [-0.3569344 ,  0.98319206],\n",
       "       [-0.43845037,  0.88374167],\n",
       "       [ 1.01534178,  0.06687469],\n",
       "       [ 0.2310607 ,  0.01153495],\n",
       "       [ 1.35098772, -0.44520507],\n",
       "       [ 0.25423421,  1.0205525 ],\n",
       "       [-0.00586456,  0.24919627],\n",
       "       [ 0.4752852 , -0.37028432],\n",
       "       [ 1.68071768, -0.34775296],\n",
       "       [ 0.84564282,  0.45629647],\n",
       "       [ 0.34218757,  0.90613948],\n",
       "       [ 0.58741368, -0.35078742],\n",
       "       [-0.17818292,  0.96641541],\n",
       "       [ 1.25865528, -0.4740009 ],\n",
       "       [ 0.33542814, -0.18023343],\n",
       "       [ 0.52630774,  0.94876068],\n",
       "       [ 0.6424051 ,  0.77717105],\n",
       "       [ 0.15770292,  0.04709417],\n",
       "       [ 1.11178863, -0.5065278 ],\n",
       "       [ 0.60370903,  0.83759912],\n",
       "       [ 1.48247118, -0.32721961],\n",
       "       [ 0.39793421, -0.36876588],\n",
       "       [ 1.67240934, -0.09328043],\n",
       "       [ 0.47551295,  0.85547255],\n",
       "       [ 0.70605116, -0.42241887],\n",
       "       [ 1.56418943, -0.34860626],\n",
       "       [ 0.94012854, -0.57508877],\n",
       "       [ 0.61400301,  0.83833823],\n",
       "       [-1.07139757,  0.02669316],\n",
       "       [-0.91308996,  0.52626435],\n",
       "       [-0.74824469,  0.51823742],\n",
       "       [ 0.14688241,  0.0297201 ],\n",
       "       [ 0.94362014, -0.44829425],\n",
       "       [ 1.84489829,  0.40601924],\n",
       "       [-0.66827347,  0.69085682],\n",
       "       [-0.7362418 ,  0.59951884],\n",
       "       [ 0.60146482,  0.72551706],\n",
       "       [ 1.47437703, -0.37541022],\n",
       "       [-0.88760005,  0.50864517],\n",
       "       [ 1.92892164,  0.18201791],\n",
       "       [ 1.78673422, -0.27470711],\n",
       "       [ 1.95130228,  0.26574549],\n",
       "       [ 0.33471666,  0.98057089],\n",
       "       [-0.16884749,  0.89206411],\n",
       "       [ 0.77063994, -0.51750338],\n",
       "       [-0.88700503,  0.36696366],\n",
       "       [-0.62886492,  0.79087211],\n",
       "       [-0.93006783,  0.38754885],\n",
       "       [ 0.42447858,  0.93268774],\n",
       "       [ 0.80861392,  0.53599924],\n",
       "       [ 0.94000928,  0.27111431],\n",
       "       [-0.01609181,  0.37369612],\n",
       "       [-0.53633385,  0.86026837],\n",
       "       [ 1.88281749,  0.24435589],\n",
       "       [ 0.17575161, -0.007231  ],\n",
       "       [ 0.12423604,  1.00790161],\n",
       "       [ 1.62152568, -0.22328525]])"
      ]
     },
     "execution_count": 3,
     "metadata": {},
     "output_type": "execute_result"
    }
   ],
   "source": [
    "X"
   ]
  },
  {
   "cell_type": "code",
   "execution_count": 4,
   "metadata": {},
   "outputs": [
    {
     "data": {
      "text/plain": [
       "array([0, 1, 1, 0, 1, 1, 0, 1, 0, 1, 0, 1, 1, 1, 0, 0, 0, 1, 0, 0, 1, 1, 0,\n",
       "       1, 0, 1, 1, 1, 1, 0, 0, 0, 1, 1, 0, 1, 1, 0, 0, 1, 1, 0, 0, 1, 1, 0,\n",
       "       0, 0, 1, 1, 0, 1, 1, 0, 1, 0, 0, 1, 0, 0, 1, 0, 1, 0, 1, 0, 0, 1, 0,\n",
       "       0, 1, 0, 1, 1, 1, 0, 1, 0, 0, 1, 1, 0, 1, 1, 1, 0, 0, 0, 1, 1, 0, 0,\n",
       "       1, 0, 1, 1, 1, 1, 0, 1, 1, 1, 0, 0, 0, 1, 0, 0, 1, 0, 0, 0, 0, 0, 0,\n",
       "       1, 0, 1, 1, 0, 0, 0, 1, 0, 1, 0, 0, 1, 1, 1, 0, 0, 0, 1, 1, 1, 1, 0,\n",
       "       1, 0, 1, 1, 0, 0, 0, 0, 1, 1, 0, 1, 1, 1, 0, 0, 1, 0, 1, 1, 0, 0, 1,\n",
       "       1, 0, 1, 1, 1, 0, 1, 1, 1, 0, 0, 0, 0, 1, 1, 1, 0, 0, 0, 1, 0, 1, 1,\n",
       "       1, 0, 0, 1, 0, 0, 0, 0, 0, 0, 1, 0, 1, 1, 0, 1], dtype=int64)"
      ]
     },
     "execution_count": 4,
     "metadata": {},
     "output_type": "execute_result"
    }
   ],
   "source": [
    "y"
   ]
  },
  {
   "cell_type": "code",
   "execution_count": 5,
   "metadata": {},
   "outputs": [
    {
     "data": {
      "image/png": "[encoded data removed]",
      "text/plain": [
       "<matplotlib.figure.Figure at 0xb9e39e8>"
      ]
     },
     "metadata": {},
     "output_type": "display_data"
    }
   ],
   "source": [
    "plt.scatter(X[:, 0], X[:, 1])\n",
    "plt.tight_layout()\n",
    "plt.show()"
   ]
  },
  {
   "cell_type": "markdown",
   "metadata": {},
   "source": [
    "##  Let's try KMeans algorithm"
   ]
  },
  {
   "cell_type": "code",
   "execution_count": 6,
   "metadata": {
    "collapsed": true
   },
   "outputs": [],
   "source": [
    "from sklearn.cluster import KMeans"
   ]
  },
  {
   "cell_type": "code",
   "execution_count": 7,
   "metadata": {},
   "outputs": [
    {
     "data": {
      "image/png": "[encoded data removed]",
      "text/plain": [
       "<matplotlib.figure.Figure at 0xb845ac8>"
      ]
     },
     "metadata": {},
     "output_type": "display_data"
    }
   ],
   "source": [
    "km = KMeans(n_clusters=2, \n",
    "            init='random', \n",
    "            n_init=10, \n",
    "            max_iter=300,\n",
    "            tol=1e-04,\n",
    "            random_state=0)\n",
    "\n",
    "y_km = km.fit_predict(X)\n",
    "\n",
    "plt.scatter(X[y_km == 0, 0],\n",
    "            X[y_km == 0, 1],\n",
    "            s=50,\n",
    "            c='lightgreen',\n",
    "            marker='s',\n",
    "            label='cluster 1')\n",
    "plt.scatter(X[y_km == 1, 0],\n",
    "            X[y_km == 1, 1],\n",
    "            s=50,\n",
    "            c='orange',\n",
    "            marker='o',\n",
    "            label='cluster 2')\n",
    "\n",
    "plt.legend()\n",
    "plt.grid()\n",
    "plt.tight_layout()\n",
    "plt.show()"
   ]
  },
  {
   "cell_type": "code",
   "execution_count": 8,
   "metadata": {},
   "outputs": [
    {
     "name": "stdout",
     "output_type": "stream",
     "text": [
      "0.755\n"
     ]
    }
   ],
   "source": [
    "from sklearn.metrics import accuracy_score\n",
    "print (accuracy_score(y, y_km))"
   ]
  },
  {
   "cell_type": "markdown",
   "metadata": {},
   "source": [
    "#### Using ‘k-means++’ selects initial cluster centers for k-mean clustering in a smart way to speed up convergence"
   ]
  },
  {
   "cell_type": "code",
   "execution_count": 9,
   "metadata": {},
   "outputs": [
    {
     "data": {
      "image/png": "[encoded data removed]",
      "text/plain": [
       "<matplotlib.figure.Figure at 0x599d748>"
      ]
     },
     "metadata": {},
     "output_type": "display_data"
    }
   ],
   "source": [
    "km1 = KMeans(n_clusters=2, \n",
    "            init='k-means++', \n",
    "            n_init=10, \n",
    "            max_iter=300,\n",
    "            tol=1e-04,\n",
    "            random_state=0)\n",
    "\n",
    "y_km1 = km1.fit_predict(X)\n",
    "\n",
    "plt.scatter(X[y_km1 == 0, 0],\n",
    "            X[y_km1 == 0, 1],\n",
    "            s=50,\n",
    "            c='lightgreen',\n",
    "            marker='s',\n",
    "            label='cluster 1')\n",
    "plt.scatter(X[y_km1 == 1, 0],\n",
    "            X[y_km1 == 1, 1],\n",
    "            s=50,\n",
    "            c='orange',\n",
    "            marker='o',\n",
    "            label='cluster 2')\n",
    "\n",
    "plt.legend()\n",
    "plt.grid()\n",
    "plt.tight_layout()\n",
    "plt.show()"
   ]
  },
  {
   "cell_type": "code",
   "execution_count": 10,
   "metadata": {},
   "outputs": [
    {
     "name": "stdout",
     "output_type": "stream",
     "text": [
      "0.755\n"
     ]
    }
   ],
   "source": [
    "print (accuracy_score(y, y_km1))"
   ]
  },
  {
   "cell_type": "markdown",
   "metadata": {},
   "source": [
    "### Choosing the best value for K - Elbow method"
   ]
  },
  {
   "cell_type": "code",
   "execution_count": 11,
   "metadata": {},
   "outputs": [
    {
     "data": {
      "image/png": "[encoded data removed]",
      "text/plain": [
       "<matplotlib.figure.Figure at 0xd2c62b0>"
      ]
     },
     "metadata": {},
     "output_type": "display_data"
    }
   ],
   "source": [
    "# SSE - sum of squared errors in the cluster. Also called as distortions\n",
    "distortions = []\n",
    "for i in range(1, 11):\n",
    "    km = KMeans(n_clusters=i, \n",
    "                init='k-means++', \n",
    "                n_init=10, \n",
    "                max_iter=300, \n",
    "                random_state=0)\n",
    "    km.fit(X)\n",
    "    distortions.append(km.inertia_)\n",
    "plt.plot(range(1, 11), distortions, marker='o')\n",
    "plt.xlabel('Number of clusters')\n",
    "plt.ylabel('Distortion')\n",
    "plt.tight_layout()\n",
    "plt.show()"
   ]
  },
  {
   "cell_type": "markdown",
   "metadata": {},
   "source": [
    "## Let's try Hierarchical Clustering "
   ]
  },
  {
   "cell_type": "code",
   "execution_count": 12,
   "metadata": {
    "collapsed": true
   },
   "outputs": [],
   "source": [
    "from sklearn.cluster import AgglomerativeClustering"
   ]
  },
  {
   "cell_type": "code",
   "execution_count": 13,
   "metadata": {},
   "outputs": [
    {
     "data": {
      "image/png": "[encoded data removed]",
      "text/plain": [
       "<matplotlib.figure.Figure at 0xddaeeb8>"
      ]
     },
     "metadata": {},
     "output_type": "display_data"
    }
   ],
   "source": [
    "ac = AgglomerativeClustering(n_clusters=2,\n",
    "                             affinity='euclidean',\n",
    "                             linkage='complete')\n",
    "\n",
    "y_ac = ac.fit_predict(X)\n",
    "\n",
    "plt.scatter(X[y_ac == 0, 0],\n",
    "            X[y_ac == 0, 1],\n",
    "            s=50,\n",
    "            c='lightgreen',\n",
    "            marker='s',\n",
    "            label='cluster 1')\n",
    "plt.scatter(X[y_ac == 1, 0],\n",
    "            X[y_ac == 1, 1],\n",
    "            s=50,\n",
    "            c='orange',\n",
    "            marker='o',\n",
    "            label='cluster 2')\n",
    "\n",
    "plt.legend()\n",
    "plt.grid()\n",
    "plt.tight_layout()\n",
    "plt.show()"
   ]
  },
  {
   "cell_type": "code",
   "execution_count": 14,
   "metadata": {},
   "outputs": [
    {
     "name": "stdout",
     "output_type": "stream",
     "text": [
      "0.83\n"
     ]
    }
   ],
   "source": [
    "print (accuracy_score(y, 1-y_ac))"
   ]
  },
  {
   "cell_type": "markdown",
   "metadata": {},
   "source": [
    "##  DBSCAN "
   ]
  },
  {
   "cell_type": "code",
   "execution_count": 15,
   "metadata": {},
   "outputs": [
    {
     "data": {
      "image/png": "[encoded data removed]",
      "text/plain": [
       "<matplotlib.figure.Figure at 0x599d518>"
      ]
     },
     "metadata": {},
     "output_type": "display_data"
    }
   ],
   "source": [
    "from sklearn.cluster import DBSCAN\n",
    "\n",
    "db = DBSCAN(eps=0.2, min_samples=5, metric='euclidean')\n",
    "\n",
    "y_db = db.fit_predict(X)\n",
    "\n",
    "plt.scatter(X[y_db == 0, 0],\n",
    "            X[y_db == 0, 1],\n",
    "            s=50,\n",
    "            c='lightgreen',\n",
    "            marker='s',\n",
    "            label='cluster 1')\n",
    "plt.scatter(X[y_db == 1, 0],\n",
    "            X[y_db == 1, 1],\n",
    "            s=50,\n",
    "            c='orange',\n",
    "            marker='o',\n",
    "            label='cluster 2')\n",
    "\n",
    "plt.legend()\n",
    "plt.grid()\n",
    "plt.tight_layout()\n",
    "plt.show()"
   ]
  },
  {
   "cell_type": "code",
   "execution_count": 16,
   "metadata": {},
   "outputs": [
    {
     "name": "stdout",
     "output_type": "stream",
     "text": [
      "1.0\n"
     ]
    }
   ],
   "source": [
    "print (accuracy_score(y, y_db))"
   ]
  },
  {
   "cell_type": "markdown",
   "metadata": {},
   "source": []
  }
 ],
 "metadata": {
  "kernelspec": {
   "display_name": "Python 3",
   "language": "python",
   "name": "python3"
  },
  "language_info": {
   "codemirror_mode": {
    "name": "ipython",
    "version": 3
   },
   "file_extension": ".py",
   "mimetype": "text/x-python",
   "name": "python",
   "nbconvert_exporter": "python",
   "pygments_lexer": "ipython3",
   "version": "3.6.1"
  }
 },
 "nbformat": 4,
 "nbformat_minor": 2
}
