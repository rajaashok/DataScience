{
 "cells": [
  {
   "cell_type": "markdown",
   "metadata": {},
   "source": [
    "## DataFrames - main tool to handle data"
   ]
  },
  {
   "cell_type": "code",
   "execution_count": 1,
   "metadata": {
    "collapsed": true
   },
   "outputs": [],
   "source": [
    "import pandas as pd\n",
    "import numpy as np"
   ]
  },
  {
   "cell_type": "code",
   "execution_count": 2,
   "metadata": {
    "collapsed": true
   },
   "outputs": [],
   "source": [
    "from numpy.random import randn"
   ]
  },
  {
   "cell_type": "code",
   "execution_count": 3,
   "metadata": {
    "collapsed": true
   },
   "outputs": [],
   "source": [
    "np.random.seed(101)"
   ]
  },
  {
   "cell_type": "code",
   "execution_count": 4,
   "metadata": {},
   "outputs": [
    {
     "data": {
      "text/plain": [
       "array([[ 2.70684984,  0.62813271,  0.90796945,  0.50382575,  0.65111795],\n",
       "       [-0.31931804, -0.84807698,  0.60596535, -2.01816824,  0.74012206],\n",
       "       [ 0.52881349, -0.58900053,  0.18869531, -0.75887206, -0.93323722],\n",
       "       [ 0.95505651,  0.19079432,  1.97875732,  2.60596728,  0.68350889],\n",
       "       [ 0.30266545,  1.69372293, -1.70608593, -1.15911942, -0.13484072]])"
      ]
     },
     "execution_count": 4,
     "metadata": {},
     "output_type": "execute_result"
    }
   ],
   "source": [
    "randn(5,5)"
   ]
  },
  {
   "cell_type": "code",
   "execution_count": 5,
   "metadata": {
    "collapsed": true
   },
   "outputs": [],
   "source": [
    "my_matrix = np.random.rand(5,5)"
   ]
  },
  {
   "cell_type": "code",
   "execution_count": 6,
   "metadata": {},
   "outputs": [
    {
     "data": {
      "text/plain": [
       "array([[ 0.86509982,  0.83027771,  0.53816145,  0.92246937,  0.09714648],\n",
       "       [ 0.10284749,  0.7015073 ,  0.89047987,  0.1595603 ,  0.27557254],\n",
       "       [ 0.67249153,  0.16430312,  0.70137114,  0.48763522,  0.68067777],\n",
       "       [ 0.52154819,  0.04339669,  0.2239366 ,  0.57520509,  0.12043366],\n",
       "       [ 0.50011671,  0.13800957,  0.0528084 ,  0.17827692,  0.44236813]])"
      ]
     },
     "execution_count": 6,
     "metadata": {},
     "output_type": "execute_result"
    }
   ],
   "source": [
    "my_matrix"
   ]
  },
  {
   "cell_type": "code",
   "execution_count": 7,
   "metadata": {},
   "outputs": [
    {
     "data": {
      "text/plain": [
       "array([[-0.86509982, -0.83027771, -0.53816145, -0.92246937, -0.09714648],\n",
       "       [-0.10284749, -0.7015073 , -0.89047987, -0.1595603 , -0.27557254],\n",
       "       [-0.67249153, -0.16430312, -0.70137114, -0.48763522, -0.68067777],\n",
       "       [-0.52154819, -0.04339669, -0.2239366 , -0.57520509, -0.12043366],\n",
       "       [-0.50011671, -0.13800957, -0.0528084 , -0.17827692, -0.44236813]])"
      ]
     },
     "execution_count": 7,
     "metadata": {},
     "output_type": "execute_result"
    }
   ],
   "source": [
    "-1 * my_matrix"
   ]
  },
  {
   "cell_type": "code",
   "execution_count": 8,
   "metadata": {
    "collapsed": true
   },
   "outputs": [],
   "source": [
    "df = pd.DataFrame(data=randn(5,5), index=['A','B','C','D','E'],columns=['meter1','meter2','meter3','meter4','meter5'] )"
   ]
  },
  {
   "cell_type": "code",
   "execution_count": 9,
   "metadata": {},
   "outputs": [
    {
     "data": {
      "text/html": [
       "<div>\n",
       "<style>\n",
       "    .dataframe thead tr:only-child th {\n",
       "        text-align: right;\n",
       "    }\n",
       "\n",
       "    .dataframe thead th {\n",
       "        text-align: left;\n",
       "    }\n",
       "\n",
       "    .dataframe tbody tr th {\n",
       "        vertical-align: top;\n",
       "    }\n",
       "</style>\n",
       "<table border=\"1\" class=\"dataframe\">\n",
       "  <thead>\n",
       "    <tr style=\"text-align: right;\">\n",
       "      <th></th>\n",
       "      <th>meter1</th>\n",
       "      <th>meter2</th>\n",
       "      <th>meter3</th>\n",
       "      <th>meter4</th>\n",
       "      <th>meter5</th>\n",
       "    </tr>\n",
       "  </thead>\n",
       "  <tbody>\n",
       "    <tr>\n",
       "      <th>A</th>\n",
       "      <td>0.390528</td>\n",
       "      <td>-2.711192</td>\n",
       "      <td>-1.522410</td>\n",
       "      <td>-1.416207</td>\n",
       "      <td>1.108544</td>\n",
       "    </tr>\n",
       "    <tr>\n",
       "      <th>B</th>\n",
       "      <td>1.131029</td>\n",
       "      <td>0.498600</td>\n",
       "      <td>1.179022</td>\n",
       "      <td>1.322684</td>\n",
       "      <td>1.852155</td>\n",
       "    </tr>\n",
       "    <tr>\n",
       "      <th>C</th>\n",
       "      <td>-0.892172</td>\n",
       "      <td>0.616861</td>\n",
       "      <td>-1.121822</td>\n",
       "      <td>1.652070</td>\n",
       "      <td>0.196925</td>\n",
       "    </tr>\n",
       "    <tr>\n",
       "      <th>D</th>\n",
       "      <td>0.103214</td>\n",
       "      <td>-0.147370</td>\n",
       "      <td>1.131284</td>\n",
       "      <td>1.085839</td>\n",
       "      <td>0.449486</td>\n",
       "    </tr>\n",
       "    <tr>\n",
       "      <th>E</th>\n",
       "      <td>-0.002963</td>\n",
       "      <td>-0.648177</td>\n",
       "      <td>-0.956150</td>\n",
       "      <td>1.610461</td>\n",
       "      <td>1.319618</td>\n",
       "    </tr>\n",
       "  </tbody>\n",
       "</table>\n",
       "</div>"
      ],
      "text/plain": [
       "     meter1    meter2    meter3    meter4    meter5\n",
       "A  0.390528 -2.711192 -1.522410 -1.416207  1.108544\n",
       "B  1.131029  0.498600  1.179022  1.322684  1.852155\n",
       "C -0.892172  0.616861 -1.121822  1.652070  0.196925\n",
       "D  0.103214 -0.147370  1.131284  1.085839  0.449486\n",
       "E -0.002963 -0.648177 -0.956150  1.610461  1.319618"
      ]
     },
     "execution_count": 9,
     "metadata": {},
     "output_type": "execute_result"
    }
   ],
   "source": [
    "df"
   ]
  },
  {
   "cell_type": "code",
   "execution_count": 10,
   "metadata": {},
   "outputs": [
    {
     "data": {
      "text/plain": [
       "pandas.core.frame.DataFrame"
      ]
     },
     "execution_count": 10,
     "metadata": {},
     "output_type": "execute_result"
    }
   ],
   "source": [
    "type(df)"
   ]
  },
  {
   "cell_type": "code",
   "execution_count": 11,
   "metadata": {},
   "outputs": [
    {
     "data": {
      "text/plain": [
       "A    0.390528\n",
       "B    1.131029\n",
       "C   -0.892172\n",
       "D    0.103214\n",
       "E   -0.002963\n",
       "Name: meter1, dtype: float64"
      ]
     },
     "execution_count": 11,
     "metadata": {},
     "output_type": "execute_result"
    }
   ],
   "source": [
    "df['meter1']"
   ]
  },
  {
   "cell_type": "code",
   "execution_count": 12,
   "metadata": {},
   "outputs": [
    {
     "data": {
      "text/plain": [
       "pandas.core.series.Series"
      ]
     },
     "execution_count": 12,
     "metadata": {},
     "output_type": "execute_result"
    }
   ],
   "source": [
    "type(df['meter1'])"
   ]
  },
  {
   "cell_type": "code",
   "execution_count": 13,
   "metadata": {},
   "outputs": [
    {
     "data": {
      "text/plain": [
       "A    0.390528\n",
       "B    1.131029\n",
       "C   -0.892172\n",
       "D    0.103214\n",
       "E   -0.002963\n",
       "Name: meter1, dtype: float64"
      ]
     },
     "execution_count": 13,
     "metadata": {},
     "output_type": "execute_result"
    }
   ],
   "source": [
    "# Not recommended\n",
    "df.meter1"
   ]
  },
  {
   "cell_type": "code",
   "execution_count": 14,
   "metadata": {},
   "outputs": [
    {
     "data": {
      "text/plain": [
       "A    0.390528\n",
       "B    1.131029\n",
       "C   -0.892172\n",
       "D    0.103214\n",
       "E   -0.002963\n",
       "Name: meter1, dtype: float64"
      ]
     },
     "execution_count": 14,
     "metadata": {},
     "output_type": "execute_result"
    }
   ],
   "source": [
    "df['meter1']"
   ]
  },
  {
   "cell_type": "code",
   "execution_count": 15,
   "metadata": {},
   "outputs": [
    {
     "data": {
      "text/html": [
       "<div>\n",
       "<style>\n",
       "    .dataframe thead tr:only-child th {\n",
       "        text-align: right;\n",
       "    }\n",
       "\n",
       "    .dataframe thead th {\n",
       "        text-align: left;\n",
       "    }\n",
       "\n",
       "    .dataframe tbody tr th {\n",
       "        vertical-align: top;\n",
       "    }\n",
       "</style>\n",
       "<table border=\"1\" class=\"dataframe\">\n",
       "  <thead>\n",
       "    <tr style=\"text-align: right;\">\n",
       "      <th></th>\n",
       "      <th>meter1</th>\n",
       "      <th>meter2</th>\n",
       "    </tr>\n",
       "  </thead>\n",
       "  <tbody>\n",
       "    <tr>\n",
       "      <th>A</th>\n",
       "      <td>0.390528</td>\n",
       "      <td>-2.711192</td>\n",
       "    </tr>\n",
       "    <tr>\n",
       "      <th>B</th>\n",
       "      <td>1.131029</td>\n",
       "      <td>0.498600</td>\n",
       "    </tr>\n",
       "    <tr>\n",
       "      <th>C</th>\n",
       "      <td>-0.892172</td>\n",
       "      <td>0.616861</td>\n",
       "    </tr>\n",
       "    <tr>\n",
       "      <th>D</th>\n",
       "      <td>0.103214</td>\n",
       "      <td>-0.147370</td>\n",
       "    </tr>\n",
       "    <tr>\n",
       "      <th>E</th>\n",
       "      <td>-0.002963</td>\n",
       "      <td>-0.648177</td>\n",
       "    </tr>\n",
       "  </tbody>\n",
       "</table>\n",
       "</div>"
      ],
      "text/plain": [
       "     meter1    meter2\n",
       "A  0.390528 -2.711192\n",
       "B  1.131029  0.498600\n",
       "C -0.892172  0.616861\n",
       "D  0.103214 -0.147370\n",
       "E -0.002963 -0.648177"
      ]
     },
     "execution_count": 15,
     "metadata": {},
     "output_type": "execute_result"
    }
   ],
   "source": [
    "df[['meter1','meter2']]"
   ]
  },
  {
   "cell_type": "code",
   "execution_count": 16,
   "metadata": {
    "collapsed": true
   },
   "outputs": [],
   "source": [
    "# creating a new column\n",
    "df['east'] = df['meter1']+df['meter5']"
   ]
  },
  {
   "cell_type": "code",
   "execution_count": 17,
   "metadata": {},
   "outputs": [
    {
     "data": {
      "text/html": [
       "<div>\n",
       "<style>\n",
       "    .dataframe thead tr:only-child th {\n",
       "        text-align: right;\n",
       "    }\n",
       "\n",
       "    .dataframe thead th {\n",
       "        text-align: left;\n",
       "    }\n",
       "\n",
       "    .dataframe tbody tr th {\n",
       "        vertical-align: top;\n",
       "    }\n",
       "</style>\n",
       "<table border=\"1\" class=\"dataframe\">\n",
       "  <thead>\n",
       "    <tr style=\"text-align: right;\">\n",
       "      <th></th>\n",
       "      <th>meter1</th>\n",
       "      <th>meter2</th>\n",
       "      <th>meter3</th>\n",
       "      <th>meter4</th>\n",
       "      <th>meter5</th>\n",
       "      <th>east</th>\n",
       "    </tr>\n",
       "  </thead>\n",
       "  <tbody>\n",
       "    <tr>\n",
       "      <th>A</th>\n",
       "      <td>0.390528</td>\n",
       "      <td>-2.711192</td>\n",
       "      <td>-1.522410</td>\n",
       "      <td>-1.416207</td>\n",
       "      <td>1.108544</td>\n",
       "      <td>1.499072</td>\n",
       "    </tr>\n",
       "    <tr>\n",
       "      <th>B</th>\n",
       "      <td>1.131029</td>\n",
       "      <td>0.498600</td>\n",
       "      <td>1.179022</td>\n",
       "      <td>1.322684</td>\n",
       "      <td>1.852155</td>\n",
       "      <td>2.983183</td>\n",
       "    </tr>\n",
       "    <tr>\n",
       "      <th>C</th>\n",
       "      <td>-0.892172</td>\n",
       "      <td>0.616861</td>\n",
       "      <td>-1.121822</td>\n",
       "      <td>1.652070</td>\n",
       "      <td>0.196925</td>\n",
       "      <td>-0.695247</td>\n",
       "    </tr>\n",
       "    <tr>\n",
       "      <th>D</th>\n",
       "      <td>0.103214</td>\n",
       "      <td>-0.147370</td>\n",
       "      <td>1.131284</td>\n",
       "      <td>1.085839</td>\n",
       "      <td>0.449486</td>\n",
       "      <td>0.552700</td>\n",
       "    </tr>\n",
       "    <tr>\n",
       "      <th>E</th>\n",
       "      <td>-0.002963</td>\n",
       "      <td>-0.648177</td>\n",
       "      <td>-0.956150</td>\n",
       "      <td>1.610461</td>\n",
       "      <td>1.319618</td>\n",
       "      <td>1.316655</td>\n",
       "    </tr>\n",
       "  </tbody>\n",
       "</table>\n",
       "</div>"
      ],
      "text/plain": [
       "     meter1    meter2    meter3    meter4    meter5      east\n",
       "A  0.390528 -2.711192 -1.522410 -1.416207  1.108544  1.499072\n",
       "B  1.131029  0.498600  1.179022  1.322684  1.852155  2.983183\n",
       "C -0.892172  0.616861 -1.121822  1.652070  0.196925 -0.695247\n",
       "D  0.103214 -0.147370  1.131284  1.085839  0.449486  0.552700\n",
       "E -0.002963 -0.648177 -0.956150  1.610461  1.319618  1.316655"
      ]
     },
     "execution_count": 17,
     "metadata": {},
     "output_type": "execute_result"
    }
   ],
   "source": [
    "df"
   ]
  },
  {
   "cell_type": "code",
   "execution_count": 18,
   "metadata": {},
   "outputs": [
    {
     "data": {
      "text/html": [
       "<div>\n",
       "<style>\n",
       "    .dataframe thead tr:only-child th {\n",
       "        text-align: right;\n",
       "    }\n",
       "\n",
       "    .dataframe thead th {\n",
       "        text-align: left;\n",
       "    }\n",
       "\n",
       "    .dataframe tbody tr th {\n",
       "        vertical-align: top;\n",
       "    }\n",
       "</style>\n",
       "<table border=\"1\" class=\"dataframe\">\n",
       "  <thead>\n",
       "    <tr style=\"text-align: right;\">\n",
       "      <th></th>\n",
       "      <th>meter1</th>\n",
       "      <th>meter2</th>\n",
       "      <th>meter3</th>\n",
       "      <th>meter4</th>\n",
       "      <th>meter5</th>\n",
       "    </tr>\n",
       "  </thead>\n",
       "  <tbody>\n",
       "    <tr>\n",
       "      <th>A</th>\n",
       "      <td>0.390528</td>\n",
       "      <td>-2.711192</td>\n",
       "      <td>-1.522410</td>\n",
       "      <td>-1.416207</td>\n",
       "      <td>1.108544</td>\n",
       "    </tr>\n",
       "    <tr>\n",
       "      <th>B</th>\n",
       "      <td>1.131029</td>\n",
       "      <td>0.498600</td>\n",
       "      <td>1.179022</td>\n",
       "      <td>1.322684</td>\n",
       "      <td>1.852155</td>\n",
       "    </tr>\n",
       "    <tr>\n",
       "      <th>C</th>\n",
       "      <td>-0.892172</td>\n",
       "      <td>0.616861</td>\n",
       "      <td>-1.121822</td>\n",
       "      <td>1.652070</td>\n",
       "      <td>0.196925</td>\n",
       "    </tr>\n",
       "    <tr>\n",
       "      <th>D</th>\n",
       "      <td>0.103214</td>\n",
       "      <td>-0.147370</td>\n",
       "      <td>1.131284</td>\n",
       "      <td>1.085839</td>\n",
       "      <td>0.449486</td>\n",
       "    </tr>\n",
       "    <tr>\n",
       "      <th>E</th>\n",
       "      <td>-0.002963</td>\n",
       "      <td>-0.648177</td>\n",
       "      <td>-0.956150</td>\n",
       "      <td>1.610461</td>\n",
       "      <td>1.319618</td>\n",
       "    </tr>\n",
       "  </tbody>\n",
       "</table>\n",
       "</div>"
      ],
      "text/plain": [
       "     meter1    meter2    meter3    meter4    meter5\n",
       "A  0.390528 -2.711192 -1.522410 -1.416207  1.108544\n",
       "B  1.131029  0.498600  1.179022  1.322684  1.852155\n",
       "C -0.892172  0.616861 -1.121822  1.652070  0.196925\n",
       "D  0.103214 -0.147370  1.131284  1.085839  0.449486\n",
       "E -0.002963 -0.648177 -0.956150  1.610461  1.319618"
      ]
     },
     "execution_count": 18,
     "metadata": {},
     "output_type": "execute_result"
    }
   ],
   "source": [
    "# drop a column\n",
    "df.drop('east', axis = 1)"
   ]
  },
  {
   "cell_type": "code",
   "execution_count": 19,
   "metadata": {
    "collapsed": true
   },
   "outputs": [],
   "source": [
    "df.drop('east', axis = 1, inplace=True)"
   ]
  },
  {
   "cell_type": "code",
   "execution_count": 20,
   "metadata": {},
   "outputs": [
    {
     "data": {
      "text/html": [
       "<div>\n",
       "<style>\n",
       "    .dataframe thead tr:only-child th {\n",
       "        text-align: right;\n",
       "    }\n",
       "\n",
       "    .dataframe thead th {\n",
       "        text-align: left;\n",
       "    }\n",
       "\n",
       "    .dataframe tbody tr th {\n",
       "        vertical-align: top;\n",
       "    }\n",
       "</style>\n",
       "<table border=\"1\" class=\"dataframe\">\n",
       "  <thead>\n",
       "    <tr style=\"text-align: right;\">\n",
       "      <th></th>\n",
       "      <th>meter1</th>\n",
       "      <th>meter2</th>\n",
       "      <th>meter3</th>\n",
       "      <th>meter4</th>\n",
       "      <th>meter5</th>\n",
       "    </tr>\n",
       "  </thead>\n",
       "  <tbody>\n",
       "    <tr>\n",
       "      <th>A</th>\n",
       "      <td>0.390528</td>\n",
       "      <td>-2.711192</td>\n",
       "      <td>-1.522410</td>\n",
       "      <td>-1.416207</td>\n",
       "      <td>1.108544</td>\n",
       "    </tr>\n",
       "    <tr>\n",
       "      <th>B</th>\n",
       "      <td>1.131029</td>\n",
       "      <td>0.498600</td>\n",
       "      <td>1.179022</td>\n",
       "      <td>1.322684</td>\n",
       "      <td>1.852155</td>\n",
       "    </tr>\n",
       "    <tr>\n",
       "      <th>C</th>\n",
       "      <td>-0.892172</td>\n",
       "      <td>0.616861</td>\n",
       "      <td>-1.121822</td>\n",
       "      <td>1.652070</td>\n",
       "      <td>0.196925</td>\n",
       "    </tr>\n",
       "    <tr>\n",
       "      <th>D</th>\n",
       "      <td>0.103214</td>\n",
       "      <td>-0.147370</td>\n",
       "      <td>1.131284</td>\n",
       "      <td>1.085839</td>\n",
       "      <td>0.449486</td>\n",
       "    </tr>\n",
       "    <tr>\n",
       "      <th>E</th>\n",
       "      <td>-0.002963</td>\n",
       "      <td>-0.648177</td>\n",
       "      <td>-0.956150</td>\n",
       "      <td>1.610461</td>\n",
       "      <td>1.319618</td>\n",
       "    </tr>\n",
       "  </tbody>\n",
       "</table>\n",
       "</div>"
      ],
      "text/plain": [
       "     meter1    meter2    meter3    meter4    meter5\n",
       "A  0.390528 -2.711192 -1.522410 -1.416207  1.108544\n",
       "B  1.131029  0.498600  1.179022  1.322684  1.852155\n",
       "C -0.892172  0.616861 -1.121822  1.652070  0.196925\n",
       "D  0.103214 -0.147370  1.131284  1.085839  0.449486\n",
       "E -0.002963 -0.648177 -0.956150  1.610461  1.319618"
      ]
     },
     "execution_count": 20,
     "metadata": {},
     "output_type": "execute_result"
    }
   ],
   "source": [
    "df"
   ]
  },
  {
   "cell_type": "code",
   "execution_count": 21,
   "metadata": {},
   "outputs": [
    {
     "data": {
      "text/html": [
       "<div>\n",
       "<style>\n",
       "    .dataframe thead tr:only-child th {\n",
       "        text-align: right;\n",
       "    }\n",
       "\n",
       "    .dataframe thead th {\n",
       "        text-align: left;\n",
       "    }\n",
       "\n",
       "    .dataframe tbody tr th {\n",
       "        vertical-align: top;\n",
       "    }\n",
       "</style>\n",
       "<table border=\"1\" class=\"dataframe\">\n",
       "  <thead>\n",
       "    <tr style=\"text-align: right;\">\n",
       "      <th></th>\n",
       "      <th>meter1</th>\n",
       "      <th>meter2</th>\n",
       "      <th>meter3</th>\n",
       "      <th>meter4</th>\n",
       "      <th>meter5</th>\n",
       "    </tr>\n",
       "  </thead>\n",
       "  <tbody>\n",
       "    <tr>\n",
       "      <th>B</th>\n",
       "      <td>1.131029</td>\n",
       "      <td>0.498600</td>\n",
       "      <td>1.179022</td>\n",
       "      <td>1.322684</td>\n",
       "      <td>1.852155</td>\n",
       "    </tr>\n",
       "    <tr>\n",
       "      <th>C</th>\n",
       "      <td>-0.892172</td>\n",
       "      <td>0.616861</td>\n",
       "      <td>-1.121822</td>\n",
       "      <td>1.652070</td>\n",
       "      <td>0.196925</td>\n",
       "    </tr>\n",
       "    <tr>\n",
       "      <th>D</th>\n",
       "      <td>0.103214</td>\n",
       "      <td>-0.147370</td>\n",
       "      <td>1.131284</td>\n",
       "      <td>1.085839</td>\n",
       "      <td>0.449486</td>\n",
       "    </tr>\n",
       "    <tr>\n",
       "      <th>E</th>\n",
       "      <td>-0.002963</td>\n",
       "      <td>-0.648177</td>\n",
       "      <td>-0.956150</td>\n",
       "      <td>1.610461</td>\n",
       "      <td>1.319618</td>\n",
       "    </tr>\n",
       "  </tbody>\n",
       "</table>\n",
       "</div>"
      ],
      "text/plain": [
       "     meter1    meter2    meter3    meter4    meter5\n",
       "B  1.131029  0.498600  1.179022  1.322684  1.852155\n",
       "C -0.892172  0.616861 -1.121822  1.652070  0.196925\n",
       "D  0.103214 -0.147370  1.131284  1.085839  0.449486\n",
       "E -0.002963 -0.648177 -0.956150  1.610461  1.319618"
      ]
     },
     "execution_count": 21,
     "metadata": {},
     "output_type": "execute_result"
    }
   ],
   "source": [
    "# drop an index\n",
    "df.drop('A', axis = 0)"
   ]
  },
  {
   "cell_type": "code",
   "execution_count": 22,
   "metadata": {},
   "outputs": [
    {
     "data": {
      "text/html": [
       "<div>\n",
       "<style>\n",
       "    .dataframe thead tr:only-child th {\n",
       "        text-align: right;\n",
       "    }\n",
       "\n",
       "    .dataframe thead th {\n",
       "        text-align: left;\n",
       "    }\n",
       "\n",
       "    .dataframe tbody tr th {\n",
       "        vertical-align: top;\n",
       "    }\n",
       "</style>\n",
       "<table border=\"1\" class=\"dataframe\">\n",
       "  <thead>\n",
       "    <tr style=\"text-align: right;\">\n",
       "      <th></th>\n",
       "      <th>meter1</th>\n",
       "      <th>meter2</th>\n",
       "      <th>meter3</th>\n",
       "      <th>meter4</th>\n",
       "      <th>meter5</th>\n",
       "    </tr>\n",
       "  </thead>\n",
       "  <tbody>\n",
       "    <tr>\n",
       "      <th>A</th>\n",
       "      <td>0.390528</td>\n",
       "      <td>-2.711192</td>\n",
       "      <td>-1.522410</td>\n",
       "      <td>-1.416207</td>\n",
       "      <td>1.108544</td>\n",
       "    </tr>\n",
       "    <tr>\n",
       "      <th>B</th>\n",
       "      <td>1.131029</td>\n",
       "      <td>0.498600</td>\n",
       "      <td>1.179022</td>\n",
       "      <td>1.322684</td>\n",
       "      <td>1.852155</td>\n",
       "    </tr>\n",
       "    <tr>\n",
       "      <th>C</th>\n",
       "      <td>-0.892172</td>\n",
       "      <td>0.616861</td>\n",
       "      <td>-1.121822</td>\n",
       "      <td>1.652070</td>\n",
       "      <td>0.196925</td>\n",
       "    </tr>\n",
       "    <tr>\n",
       "      <th>D</th>\n",
       "      <td>0.103214</td>\n",
       "      <td>-0.147370</td>\n",
       "      <td>1.131284</td>\n",
       "      <td>1.085839</td>\n",
       "      <td>0.449486</td>\n",
       "    </tr>\n",
       "    <tr>\n",
       "      <th>E</th>\n",
       "      <td>-0.002963</td>\n",
       "      <td>-0.648177</td>\n",
       "      <td>-0.956150</td>\n",
       "      <td>1.610461</td>\n",
       "      <td>1.319618</td>\n",
       "    </tr>\n",
       "  </tbody>\n",
       "</table>\n",
       "</div>"
      ],
      "text/plain": [
       "     meter1    meter2    meter3    meter4    meter5\n",
       "A  0.390528 -2.711192 -1.522410 -1.416207  1.108544\n",
       "B  1.131029  0.498600  1.179022  1.322684  1.852155\n",
       "C -0.892172  0.616861 -1.121822  1.652070  0.196925\n",
       "D  0.103214 -0.147370  1.131284  1.085839  0.449486\n",
       "E -0.002963 -0.648177 -0.956150  1.610461  1.319618"
      ]
     },
     "execution_count": 22,
     "metadata": {},
     "output_type": "execute_result"
    }
   ],
   "source": [
    "df"
   ]
  },
  {
   "cell_type": "code",
   "execution_count": 23,
   "metadata": {
    "collapsed": true
   },
   "outputs": [],
   "source": [
    "df['east'] = df['meter1']+df['meter5']"
   ]
  },
  {
   "cell_type": "code",
   "execution_count": 24,
   "metadata": {},
   "outputs": [
    {
     "data": {
      "text/html": [
       "<div>\n",
       "<style>\n",
       "    .dataframe thead tr:only-child th {\n",
       "        text-align: right;\n",
       "    }\n",
       "\n",
       "    .dataframe thead th {\n",
       "        text-align: left;\n",
       "    }\n",
       "\n",
       "    .dataframe tbody tr th {\n",
       "        vertical-align: top;\n",
       "    }\n",
       "</style>\n",
       "<table border=\"1\" class=\"dataframe\">\n",
       "  <thead>\n",
       "    <tr style=\"text-align: right;\">\n",
       "      <th></th>\n",
       "      <th>meter1</th>\n",
       "      <th>meter2</th>\n",
       "      <th>meter3</th>\n",
       "      <th>meter4</th>\n",
       "      <th>meter5</th>\n",
       "      <th>east</th>\n",
       "    </tr>\n",
       "  </thead>\n",
       "  <tbody>\n",
       "    <tr>\n",
       "      <th>A</th>\n",
       "      <td>0.390528</td>\n",
       "      <td>-2.711192</td>\n",
       "      <td>-1.522410</td>\n",
       "      <td>-1.416207</td>\n",
       "      <td>1.108544</td>\n",
       "      <td>1.499072</td>\n",
       "    </tr>\n",
       "    <tr>\n",
       "      <th>B</th>\n",
       "      <td>1.131029</td>\n",
       "      <td>0.498600</td>\n",
       "      <td>1.179022</td>\n",
       "      <td>1.322684</td>\n",
       "      <td>1.852155</td>\n",
       "      <td>2.983183</td>\n",
       "    </tr>\n",
       "    <tr>\n",
       "      <th>C</th>\n",
       "      <td>-0.892172</td>\n",
       "      <td>0.616861</td>\n",
       "      <td>-1.121822</td>\n",
       "      <td>1.652070</td>\n",
       "      <td>0.196925</td>\n",
       "      <td>-0.695247</td>\n",
       "    </tr>\n",
       "    <tr>\n",
       "      <th>D</th>\n",
       "      <td>0.103214</td>\n",
       "      <td>-0.147370</td>\n",
       "      <td>1.131284</td>\n",
       "      <td>1.085839</td>\n",
       "      <td>0.449486</td>\n",
       "      <td>0.552700</td>\n",
       "    </tr>\n",
       "    <tr>\n",
       "      <th>E</th>\n",
       "      <td>-0.002963</td>\n",
       "      <td>-0.648177</td>\n",
       "      <td>-0.956150</td>\n",
       "      <td>1.610461</td>\n",
       "      <td>1.319618</td>\n",
       "      <td>1.316655</td>\n",
       "    </tr>\n",
       "  </tbody>\n",
       "</table>\n",
       "</div>"
      ],
      "text/plain": [
       "     meter1    meter2    meter3    meter4    meter5      east\n",
       "A  0.390528 -2.711192 -1.522410 -1.416207  1.108544  1.499072\n",
       "B  1.131029  0.498600  1.179022  1.322684  1.852155  2.983183\n",
       "C -0.892172  0.616861 -1.121822  1.652070  0.196925 -0.695247\n",
       "D  0.103214 -0.147370  1.131284  1.085839  0.449486  0.552700\n",
       "E -0.002963 -0.648177 -0.956150  1.610461  1.319618  1.316655"
      ]
     },
     "execution_count": 24,
     "metadata": {},
     "output_type": "execute_result"
    }
   ],
   "source": [
    "df"
   ]
  },
  {
   "cell_type": "code",
   "execution_count": 25,
   "metadata": {
    "collapsed": true
   },
   "outputs": [],
   "source": [
    "df = df.drop('east', axis = 1)"
   ]
  },
  {
   "cell_type": "code",
   "execution_count": 26,
   "metadata": {},
   "outputs": [
    {
     "data": {
      "text/html": [
       "<div>\n",
       "<style>\n",
       "    .dataframe thead tr:only-child th {\n",
       "        text-align: right;\n",
       "    }\n",
       "\n",
       "    .dataframe thead th {\n",
       "        text-align: left;\n",
       "    }\n",
       "\n",
       "    .dataframe tbody tr th {\n",
       "        vertical-align: top;\n",
       "    }\n",
       "</style>\n",
       "<table border=\"1\" class=\"dataframe\">\n",
       "  <thead>\n",
       "    <tr style=\"text-align: right;\">\n",
       "      <th></th>\n",
       "      <th>meter1</th>\n",
       "      <th>meter2</th>\n",
       "      <th>meter3</th>\n",
       "      <th>meter4</th>\n",
       "      <th>meter5</th>\n",
       "    </tr>\n",
       "  </thead>\n",
       "  <tbody>\n",
       "    <tr>\n",
       "      <th>A</th>\n",
       "      <td>0.390528</td>\n",
       "      <td>-2.711192</td>\n",
       "      <td>-1.522410</td>\n",
       "      <td>-1.416207</td>\n",
       "      <td>1.108544</td>\n",
       "    </tr>\n",
       "    <tr>\n",
       "      <th>B</th>\n",
       "      <td>1.131029</td>\n",
       "      <td>0.498600</td>\n",
       "      <td>1.179022</td>\n",
       "      <td>1.322684</td>\n",
       "      <td>1.852155</td>\n",
       "    </tr>\n",
       "    <tr>\n",
       "      <th>C</th>\n",
       "      <td>-0.892172</td>\n",
       "      <td>0.616861</td>\n",
       "      <td>-1.121822</td>\n",
       "      <td>1.652070</td>\n",
       "      <td>0.196925</td>\n",
       "    </tr>\n",
       "    <tr>\n",
       "      <th>D</th>\n",
       "      <td>0.103214</td>\n",
       "      <td>-0.147370</td>\n",
       "      <td>1.131284</td>\n",
       "      <td>1.085839</td>\n",
       "      <td>0.449486</td>\n",
       "    </tr>\n",
       "    <tr>\n",
       "      <th>E</th>\n",
       "      <td>-0.002963</td>\n",
       "      <td>-0.648177</td>\n",
       "      <td>-0.956150</td>\n",
       "      <td>1.610461</td>\n",
       "      <td>1.319618</td>\n",
       "    </tr>\n",
       "  </tbody>\n",
       "</table>\n",
       "</div>"
      ],
      "text/plain": [
       "     meter1    meter2    meter3    meter4    meter5\n",
       "A  0.390528 -2.711192 -1.522410 -1.416207  1.108544\n",
       "B  1.131029  0.498600  1.179022  1.322684  1.852155\n",
       "C -0.892172  0.616861 -1.121822  1.652070  0.196925\n",
       "D  0.103214 -0.147370  1.131284  1.085839  0.449486\n",
       "E -0.002963 -0.648177 -0.956150  1.610461  1.319618"
      ]
     },
     "execution_count": 26,
     "metadata": {},
     "output_type": "execute_result"
    }
   ],
   "source": [
    "df"
   ]
  },
  {
   "cell_type": "code",
   "execution_count": 27,
   "metadata": {},
   "outputs": [
    {
     "data": {
      "text/html": [
       "<div>\n",
       "<style>\n",
       "    .dataframe thead tr:only-child th {\n",
       "        text-align: right;\n",
       "    }\n",
       "\n",
       "    .dataframe thead th {\n",
       "        text-align: left;\n",
       "    }\n",
       "\n",
       "    .dataframe tbody tr th {\n",
       "        vertical-align: top;\n",
       "    }\n",
       "</style>\n",
       "<table border=\"1\" class=\"dataframe\">\n",
       "  <thead>\n",
       "    <tr style=\"text-align: right;\">\n",
       "      <th></th>\n",
       "      <th>meter1</th>\n",
       "      <th>meter2</th>\n",
       "      <th>meter3</th>\n",
       "      <th>meter4</th>\n",
       "    </tr>\n",
       "  </thead>\n",
       "  <tbody>\n",
       "    <tr>\n",
       "      <th>A</th>\n",
       "      <td>0.390528</td>\n",
       "      <td>-2.711192</td>\n",
       "      <td>-1.522410</td>\n",
       "      <td>-1.416207</td>\n",
       "    </tr>\n",
       "    <tr>\n",
       "      <th>B</th>\n",
       "      <td>1.131029</td>\n",
       "      <td>0.498600</td>\n",
       "      <td>1.179022</td>\n",
       "      <td>1.322684</td>\n",
       "    </tr>\n",
       "    <tr>\n",
       "      <th>C</th>\n",
       "      <td>-0.892172</td>\n",
       "      <td>0.616861</td>\n",
       "      <td>-1.121822</td>\n",
       "      <td>1.652070</td>\n",
       "    </tr>\n",
       "    <tr>\n",
       "      <th>D</th>\n",
       "      <td>0.103214</td>\n",
       "      <td>-0.147370</td>\n",
       "      <td>1.131284</td>\n",
       "      <td>1.085839</td>\n",
       "    </tr>\n",
       "    <tr>\n",
       "      <th>E</th>\n",
       "      <td>-0.002963</td>\n",
       "      <td>-0.648177</td>\n",
       "      <td>-0.956150</td>\n",
       "      <td>1.610461</td>\n",
       "    </tr>\n",
       "  </tbody>\n",
       "</table>\n",
       "</div>"
      ],
      "text/plain": [
       "     meter1    meter2    meter3    meter4\n",
       "A  0.390528 -2.711192 -1.522410 -1.416207\n",
       "B  1.131029  0.498600  1.179022  1.322684\n",
       "C -0.892172  0.616861 -1.121822  1.652070\n",
       "D  0.103214 -0.147370  1.131284  1.085839\n",
       "E -0.002963 -0.648177 -0.956150  1.610461"
      ]
     },
     "execution_count": 27,
     "metadata": {},
     "output_type": "execute_result"
    }
   ],
   "source": [
    "df = df.drop('meter5', axis = 1)\n",
    "df"
   ]
  },
  {
   "cell_type": "code",
   "execution_count": 28,
   "metadata": {},
   "outputs": [
    {
     "data": {
      "text/plain": [
       "(5, 4)"
      ]
     },
     "execution_count": 28,
     "metadata": {},
     "output_type": "execute_result"
    }
   ],
   "source": [
    "df.shape"
   ]
  },
  {
   "cell_type": "code",
   "execution_count": 29,
   "metadata": {},
   "outputs": [
    {
     "name": "stdout",
     "output_type": "stream",
     "text": [
      "<class 'pandas.core.frame.DataFrame'>\n",
      "Index: 5 entries, A to E\n",
      "Data columns (total 4 columns):\n",
      "meter1    5 non-null float64\n",
      "meter2    5 non-null float64\n",
      "meter3    5 non-null float64\n",
      "meter4    5 non-null float64\n",
      "dtypes: float64(4)\n",
      "memory usage: 360.0+ bytes\n"
     ]
    }
   ],
   "source": [
    "df.info()"
   ]
  },
  {
   "cell_type": "code",
   "execution_count": 30,
   "metadata": {},
   "outputs": [
    {
     "data": {
      "text/html": [
       "<div>\n",
       "<style>\n",
       "    .dataframe thead tr:only-child th {\n",
       "        text-align: right;\n",
       "    }\n",
       "\n",
       "    .dataframe thead th {\n",
       "        text-align: left;\n",
       "    }\n",
       "\n",
       "    .dataframe tbody tr th {\n",
       "        vertical-align: top;\n",
       "    }\n",
       "</style>\n",
       "<table border=\"1\" class=\"dataframe\">\n",
       "  <thead>\n",
       "    <tr style=\"text-align: right;\">\n",
       "      <th></th>\n",
       "      <th>meter1</th>\n",
       "      <th>meter2</th>\n",
       "      <th>meter3</th>\n",
       "      <th>meter4</th>\n",
       "    </tr>\n",
       "  </thead>\n",
       "  <tbody>\n",
       "    <tr>\n",
       "      <th>count</th>\n",
       "      <td>5.000000</td>\n",
       "      <td>5.000000</td>\n",
       "      <td>5.000000</td>\n",
       "      <td>5.000000</td>\n",
       "    </tr>\n",
       "    <tr>\n",
       "      <th>mean</th>\n",
       "      <td>0.145927</td>\n",
       "      <td>-0.478256</td>\n",
       "      <td>-0.258015</td>\n",
       "      <td>0.850970</td>\n",
       "    </tr>\n",
       "    <tr>\n",
       "      <th>std</th>\n",
       "      <td>0.730051</td>\n",
       "      <td>1.348878</td>\n",
       "      <td>1.306472</td>\n",
       "      <td>1.288057</td>\n",
       "    </tr>\n",
       "    <tr>\n",
       "      <th>min</th>\n",
       "      <td>-0.892172</td>\n",
       "      <td>-2.711192</td>\n",
       "      <td>-1.522410</td>\n",
       "      <td>-1.416207</td>\n",
       "    </tr>\n",
       "    <tr>\n",
       "      <th>25%</th>\n",
       "      <td>-0.002963</td>\n",
       "      <td>-0.648177</td>\n",
       "      <td>-1.121822</td>\n",
       "      <td>1.085839</td>\n",
       "    </tr>\n",
       "    <tr>\n",
       "      <th>50%</th>\n",
       "      <td>0.103214</td>\n",
       "      <td>-0.147370</td>\n",
       "      <td>-0.956150</td>\n",
       "      <td>1.322684</td>\n",
       "    </tr>\n",
       "    <tr>\n",
       "      <th>75%</th>\n",
       "      <td>0.390528</td>\n",
       "      <td>0.498600</td>\n",
       "      <td>1.131284</td>\n",
       "      <td>1.610461</td>\n",
       "    </tr>\n",
       "    <tr>\n",
       "      <th>max</th>\n",
       "      <td>1.131029</td>\n",
       "      <td>0.616861</td>\n",
       "      <td>1.179022</td>\n",
       "      <td>1.652070</td>\n",
       "    </tr>\n",
       "  </tbody>\n",
       "</table>\n",
       "</div>"
      ],
      "text/plain": [
       "         meter1    meter2    meter3    meter4\n",
       "count  5.000000  5.000000  5.000000  5.000000\n",
       "mean   0.145927 -0.478256 -0.258015  0.850970\n",
       "std    0.730051  1.348878  1.306472  1.288057\n",
       "min   -0.892172 -2.711192 -1.522410 -1.416207\n",
       "25%   -0.002963 -0.648177 -1.121822  1.085839\n",
       "50%    0.103214 -0.147370 -0.956150  1.322684\n",
       "75%    0.390528  0.498600  1.131284  1.610461\n",
       "max    1.131029  0.616861  1.179022  1.652070"
      ]
     },
     "execution_count": 30,
     "metadata": {},
     "output_type": "execute_result"
    }
   ],
   "source": [
    "df.describe()"
   ]
  },
  {
   "cell_type": "code",
   "execution_count": 31,
   "metadata": {},
   "outputs": [
    {
     "data": {
      "text/html": [
       "<div>\n",
       "<style>\n",
       "    .dataframe thead tr:only-child th {\n",
       "        text-align: right;\n",
       "    }\n",
       "\n",
       "    .dataframe thead th {\n",
       "        text-align: left;\n",
       "    }\n",
       "\n",
       "    .dataframe tbody tr th {\n",
       "        vertical-align: top;\n",
       "    }\n",
       "</style>\n",
       "<table border=\"1\" class=\"dataframe\">\n",
       "  <thead>\n",
       "    <tr style=\"text-align: right;\">\n",
       "      <th></th>\n",
       "      <th>meter1</th>\n",
       "      <th>meter2</th>\n",
       "      <th>meter3</th>\n",
       "    </tr>\n",
       "  </thead>\n",
       "  <tbody>\n",
       "    <tr>\n",
       "      <th>A</th>\n",
       "      <td>0.390528</td>\n",
       "      <td>-2.711192</td>\n",
       "      <td>-1.522410</td>\n",
       "    </tr>\n",
       "    <tr>\n",
       "      <th>B</th>\n",
       "      <td>1.131029</td>\n",
       "      <td>0.498600</td>\n",
       "      <td>1.179022</td>\n",
       "    </tr>\n",
       "    <tr>\n",
       "      <th>C</th>\n",
       "      <td>-0.892172</td>\n",
       "      <td>0.616861</td>\n",
       "      <td>-1.121822</td>\n",
       "    </tr>\n",
       "    <tr>\n",
       "      <th>D</th>\n",
       "      <td>0.103214</td>\n",
       "      <td>-0.147370</td>\n",
       "      <td>1.131284</td>\n",
       "    </tr>\n",
       "    <tr>\n",
       "      <th>E</th>\n",
       "      <td>-0.002963</td>\n",
       "      <td>-0.648177</td>\n",
       "      <td>-0.956150</td>\n",
       "    </tr>\n",
       "  </tbody>\n",
       "</table>\n",
       "</div>"
      ],
      "text/plain": [
       "     meter1    meter2    meter3\n",
       "A  0.390528 -2.711192 -1.522410\n",
       "B  1.131029  0.498600  1.179022\n",
       "C -0.892172  0.616861 -1.121822\n",
       "D  0.103214 -0.147370  1.131284\n",
       "E -0.002963 -0.648177 -0.956150"
      ]
     },
     "execution_count": 31,
     "metadata": {},
     "output_type": "execute_result"
    }
   ],
   "source": [
    "#Selecting columns\n",
    "df[['meter1','meter2','meter3']]"
   ]
  },
  {
   "cell_type": "code",
   "execution_count": 32,
   "metadata": {},
   "outputs": [
    {
     "data": {
      "text/plain": [
       "meter1    0.390528\n",
       "meter2   -2.711192\n",
       "meter3   -1.522410\n",
       "meter4   -1.416207\n",
       "Name: A, dtype: float64"
      ]
     },
     "execution_count": 32,
     "metadata": {},
     "output_type": "execute_result"
    }
   ],
   "source": [
    "# Selecting rows -- two ways to select rows\n",
    "df.loc['A']"
   ]
  },
  {
   "cell_type": "code",
   "execution_count": 33,
   "metadata": {},
   "outputs": [
    {
     "data": {
      "text/plain": [
       "meter1    0.390528\n",
       "meter2   -2.711192\n",
       "meter3   -1.522410\n",
       "meter4   -1.416207\n",
       "Name: A, dtype: float64"
      ]
     },
     "execution_count": 33,
     "metadata": {},
     "output_type": "execute_result"
    }
   ],
   "source": [
    "# Even though index has different names, we can access by 0,1,2... using 'iloc'\n",
    "df.iloc[0]"
   ]
  },
  {
   "cell_type": "code",
   "execution_count": 34,
   "metadata": {},
   "outputs": [
    {
     "data": {
      "text/plain": [
       "meter1    1.131029\n",
       "meter2    0.498600\n",
       "meter3    1.179022\n",
       "meter4    1.322684\n",
       "Name: B, dtype: float64"
      ]
     },
     "execution_count": 34,
     "metadata": {},
     "output_type": "execute_result"
    }
   ],
   "source": [
    "df.iloc[1]"
   ]
  },
  {
   "cell_type": "code",
   "execution_count": 35,
   "metadata": {},
   "outputs": [
    {
     "data": {
      "text/plain": [
       "1.1310285847642976"
      ]
     },
     "execution_count": 35,
     "metadata": {},
     "output_type": "execute_result"
    }
   ],
   "source": [
    "# Selecting subsets of rows and columns\n",
    "df.loc['B','meter1']"
   ]
  },
  {
   "cell_type": "code",
   "execution_count": 36,
   "metadata": {},
   "outputs": [
    {
     "data": {
      "text/html": [
       "<div>\n",
       "<style>\n",
       "    .dataframe thead tr:only-child th {\n",
       "        text-align: right;\n",
       "    }\n",
       "\n",
       "    .dataframe thead th {\n",
       "        text-align: left;\n",
       "    }\n",
       "\n",
       "    .dataframe tbody tr th {\n",
       "        vertical-align: top;\n",
       "    }\n",
       "</style>\n",
       "<table border=\"1\" class=\"dataframe\">\n",
       "  <thead>\n",
       "    <tr style=\"text-align: right;\">\n",
       "      <th></th>\n",
       "      <th>meter1</th>\n",
       "      <th>meter2</th>\n",
       "    </tr>\n",
       "  </thead>\n",
       "  <tbody>\n",
       "    <tr>\n",
       "      <th>A</th>\n",
       "      <td>0.390528</td>\n",
       "      <td>-2.711192</td>\n",
       "    </tr>\n",
       "    <tr>\n",
       "      <th>B</th>\n",
       "      <td>1.131029</td>\n",
       "      <td>0.498600</td>\n",
       "    </tr>\n",
       "  </tbody>\n",
       "</table>\n",
       "</div>"
      ],
      "text/plain": [
       "     meter1    meter2\n",
       "A  0.390528 -2.711192\n",
       "B  1.131029  0.498600"
      ]
     },
     "execution_count": 36,
     "metadata": {},
     "output_type": "execute_result"
    }
   ],
   "source": [
    "df.loc[['A','B'], ['meter1','meter2'] ]"
   ]
  },
  {
   "cell_type": "markdown",
   "metadata": {},
   "source": [
    "### Conditional Selection"
   ]
  },
  {
   "cell_type": "code",
   "execution_count": 37,
   "metadata": {},
   "outputs": [
    {
     "data": {
      "text/html": [
       "<div>\n",
       "<style>\n",
       "    .dataframe thead tr:only-child th {\n",
       "        text-align: right;\n",
       "    }\n",
       "\n",
       "    .dataframe thead th {\n",
       "        text-align: left;\n",
       "    }\n",
       "\n",
       "    .dataframe tbody tr th {\n",
       "        vertical-align: top;\n",
       "    }\n",
       "</style>\n",
       "<table border=\"1\" class=\"dataframe\">\n",
       "  <thead>\n",
       "    <tr style=\"text-align: right;\">\n",
       "      <th></th>\n",
       "      <th>meter1</th>\n",
       "      <th>meter2</th>\n",
       "      <th>meter3</th>\n",
       "      <th>meter4</th>\n",
       "    </tr>\n",
       "  </thead>\n",
       "  <tbody>\n",
       "    <tr>\n",
       "      <th>A</th>\n",
       "      <td>0.390528</td>\n",
       "      <td>-2.711192</td>\n",
       "      <td>-1.522410</td>\n",
       "      <td>-1.416207</td>\n",
       "    </tr>\n",
       "    <tr>\n",
       "      <th>B</th>\n",
       "      <td>1.131029</td>\n",
       "      <td>0.498600</td>\n",
       "      <td>1.179022</td>\n",
       "      <td>1.322684</td>\n",
       "    </tr>\n",
       "    <tr>\n",
       "      <th>C</th>\n",
       "      <td>-0.892172</td>\n",
       "      <td>0.616861</td>\n",
       "      <td>-1.121822</td>\n",
       "      <td>1.652070</td>\n",
       "    </tr>\n",
       "    <tr>\n",
       "      <th>D</th>\n",
       "      <td>0.103214</td>\n",
       "      <td>-0.147370</td>\n",
       "      <td>1.131284</td>\n",
       "      <td>1.085839</td>\n",
       "    </tr>\n",
       "    <tr>\n",
       "      <th>E</th>\n",
       "      <td>-0.002963</td>\n",
       "      <td>-0.648177</td>\n",
       "      <td>-0.956150</td>\n",
       "      <td>1.610461</td>\n",
       "    </tr>\n",
       "  </tbody>\n",
       "</table>\n",
       "</div>"
      ],
      "text/plain": [
       "     meter1    meter2    meter3    meter4\n",
       "A  0.390528 -2.711192 -1.522410 -1.416207\n",
       "B  1.131029  0.498600  1.179022  1.322684\n",
       "C -0.892172  0.616861 -1.121822  1.652070\n",
       "D  0.103214 -0.147370  1.131284  1.085839\n",
       "E -0.002963 -0.648177 -0.956150  1.610461"
      ]
     },
     "execution_count": 37,
     "metadata": {},
     "output_type": "execute_result"
    }
   ],
   "source": [
    "df"
   ]
  },
  {
   "cell_type": "code",
   "execution_count": 38,
   "metadata": {},
   "outputs": [
    {
     "data": {
      "text/html": [
       "<div>\n",
       "<style>\n",
       "    .dataframe thead tr:only-child th {\n",
       "        text-align: right;\n",
       "    }\n",
       "\n",
       "    .dataframe thead th {\n",
       "        text-align: left;\n",
       "    }\n",
       "\n",
       "    .dataframe tbody tr th {\n",
       "        vertical-align: top;\n",
       "    }\n",
       "</style>\n",
       "<table border=\"1\" class=\"dataframe\">\n",
       "  <thead>\n",
       "    <tr style=\"text-align: right;\">\n",
       "      <th></th>\n",
       "      <th>meter1</th>\n",
       "      <th>meter2</th>\n",
       "      <th>meter3</th>\n",
       "      <th>meter4</th>\n",
       "    </tr>\n",
       "  </thead>\n",
       "  <tbody>\n",
       "    <tr>\n",
       "      <th>A</th>\n",
       "      <td>True</td>\n",
       "      <td>False</td>\n",
       "      <td>False</td>\n",
       "      <td>False</td>\n",
       "    </tr>\n",
       "    <tr>\n",
       "      <th>B</th>\n",
       "      <td>True</td>\n",
       "      <td>True</td>\n",
       "      <td>True</td>\n",
       "      <td>True</td>\n",
       "    </tr>\n",
       "    <tr>\n",
       "      <th>C</th>\n",
       "      <td>False</td>\n",
       "      <td>True</td>\n",
       "      <td>False</td>\n",
       "      <td>True</td>\n",
       "    </tr>\n",
       "    <tr>\n",
       "      <th>D</th>\n",
       "      <td>True</td>\n",
       "      <td>False</td>\n",
       "      <td>True</td>\n",
       "      <td>True</td>\n",
       "    </tr>\n",
       "    <tr>\n",
       "      <th>E</th>\n",
       "      <td>False</td>\n",
       "      <td>False</td>\n",
       "      <td>False</td>\n",
       "      <td>True</td>\n",
       "    </tr>\n",
       "  </tbody>\n",
       "</table>\n",
       "</div>"
      ],
      "text/plain": [
       "   meter1  meter2  meter3  meter4\n",
       "A    True   False   False   False\n",
       "B    True    True    True    True\n",
       "C   False    True   False    True\n",
       "D    True   False    True    True\n",
       "E   False   False   False    True"
      ]
     },
     "execution_count": 38,
     "metadata": {},
     "output_type": "execute_result"
    }
   ],
   "source": [
    "df>0"
   ]
  },
  {
   "cell_type": "code",
   "execution_count": 39,
   "metadata": {},
   "outputs": [
    {
     "data": {
      "text/html": [
       "<div>\n",
       "<style>\n",
       "    .dataframe thead tr:only-child th {\n",
       "        text-align: right;\n",
       "    }\n",
       "\n",
       "    .dataframe thead th {\n",
       "        text-align: left;\n",
       "    }\n",
       "\n",
       "    .dataframe tbody tr th {\n",
       "        vertical-align: top;\n",
       "    }\n",
       "</style>\n",
       "<table border=\"1\" class=\"dataframe\">\n",
       "  <thead>\n",
       "    <tr style=\"text-align: right;\">\n",
       "      <th></th>\n",
       "      <th>meter1</th>\n",
       "      <th>meter2</th>\n",
       "      <th>meter3</th>\n",
       "      <th>meter4</th>\n",
       "    </tr>\n",
       "  </thead>\n",
       "  <tbody>\n",
       "    <tr>\n",
       "      <th>A</th>\n",
       "      <td>0.390528</td>\n",
       "      <td>NaN</td>\n",
       "      <td>NaN</td>\n",
       "      <td>NaN</td>\n",
       "    </tr>\n",
       "    <tr>\n",
       "      <th>B</th>\n",
       "      <td>1.131029</td>\n",
       "      <td>0.498600</td>\n",
       "      <td>1.179022</td>\n",
       "      <td>1.322684</td>\n",
       "    </tr>\n",
       "    <tr>\n",
       "      <th>C</th>\n",
       "      <td>NaN</td>\n",
       "      <td>0.616861</td>\n",
       "      <td>NaN</td>\n",
       "      <td>1.652070</td>\n",
       "    </tr>\n",
       "    <tr>\n",
       "      <th>D</th>\n",
       "      <td>0.103214</td>\n",
       "      <td>NaN</td>\n",
       "      <td>1.131284</td>\n",
       "      <td>1.085839</td>\n",
       "    </tr>\n",
       "    <tr>\n",
       "      <th>E</th>\n",
       "      <td>NaN</td>\n",
       "      <td>NaN</td>\n",
       "      <td>NaN</td>\n",
       "      <td>1.610461</td>\n",
       "    </tr>\n",
       "  </tbody>\n",
       "</table>\n",
       "</div>"
      ],
      "text/plain": [
       "     meter1    meter2    meter3    meter4\n",
       "A  0.390528       NaN       NaN       NaN\n",
       "B  1.131029  0.498600  1.179022  1.322684\n",
       "C       NaN  0.616861       NaN  1.652070\n",
       "D  0.103214       NaN  1.131284  1.085839\n",
       "E       NaN       NaN       NaN  1.610461"
      ]
     },
     "execution_count": 39,
     "metadata": {},
     "output_type": "execute_result"
    }
   ],
   "source": [
    "df[df>0]"
   ]
  },
  {
   "cell_type": "code",
   "execution_count": 40,
   "metadata": {},
   "outputs": [
    {
     "data": {
      "text/plain": [
       "A     True\n",
       "B     True\n",
       "C    False\n",
       "D     True\n",
       "E    False\n",
       "Name: meter1, dtype: bool"
      ]
     },
     "execution_count": 40,
     "metadata": {},
     "output_type": "execute_result"
    }
   ],
   "source": [
    "df['meter1']>0"
   ]
  },
  {
   "cell_type": "code",
   "execution_count": 41,
   "metadata": {},
   "outputs": [
    {
     "data": {
      "text/html": [
       "<div>\n",
       "<style>\n",
       "    .dataframe thead tr:only-child th {\n",
       "        text-align: right;\n",
       "    }\n",
       "\n",
       "    .dataframe thead th {\n",
       "        text-align: left;\n",
       "    }\n",
       "\n",
       "    .dataframe tbody tr th {\n",
       "        vertical-align: top;\n",
       "    }\n",
       "</style>\n",
       "<table border=\"1\" class=\"dataframe\">\n",
       "  <thead>\n",
       "    <tr style=\"text-align: right;\">\n",
       "      <th></th>\n",
       "      <th>meter1</th>\n",
       "      <th>meter2</th>\n",
       "      <th>meter3</th>\n",
       "      <th>meter4</th>\n",
       "    </tr>\n",
       "  </thead>\n",
       "  <tbody>\n",
       "    <tr>\n",
       "      <th>A</th>\n",
       "      <td>0.390528</td>\n",
       "      <td>-2.711192</td>\n",
       "      <td>-1.522410</td>\n",
       "      <td>-1.416207</td>\n",
       "    </tr>\n",
       "    <tr>\n",
       "      <th>B</th>\n",
       "      <td>1.131029</td>\n",
       "      <td>0.498600</td>\n",
       "      <td>1.179022</td>\n",
       "      <td>1.322684</td>\n",
       "    </tr>\n",
       "    <tr>\n",
       "      <th>D</th>\n",
       "      <td>0.103214</td>\n",
       "      <td>-0.147370</td>\n",
       "      <td>1.131284</td>\n",
       "      <td>1.085839</td>\n",
       "    </tr>\n",
       "  </tbody>\n",
       "</table>\n",
       "</div>"
      ],
      "text/plain": [
       "     meter1    meter2    meter3    meter4\n",
       "A  0.390528 -2.711192 -1.522410 -1.416207\n",
       "B  1.131029  0.498600  1.179022  1.322684\n",
       "D  0.103214 -0.147370  1.131284  1.085839"
      ]
     },
     "execution_count": 41,
     "metadata": {},
     "output_type": "execute_result"
    }
   ],
   "source": [
    "df[df['meter1']>0]"
   ]
  },
  {
   "cell_type": "code",
   "execution_count": 42,
   "metadata": {
    "collapsed": true
   },
   "outputs": [],
   "source": [
    "meter1_positive = df[df['meter1']>0]"
   ]
  },
  {
   "cell_type": "code",
   "execution_count": 43,
   "metadata": {},
   "outputs": [
    {
     "data": {
      "text/html": [
       "<div>\n",
       "<style>\n",
       "    .dataframe thead tr:only-child th {\n",
       "        text-align: right;\n",
       "    }\n",
       "\n",
       "    .dataframe thead th {\n",
       "        text-align: left;\n",
       "    }\n",
       "\n",
       "    .dataframe tbody tr th {\n",
       "        vertical-align: top;\n",
       "    }\n",
       "</style>\n",
       "<table border=\"1\" class=\"dataframe\">\n",
       "  <thead>\n",
       "    <tr style=\"text-align: right;\">\n",
       "      <th></th>\n",
       "      <th>meter1</th>\n",
       "      <th>meter2</th>\n",
       "      <th>meter3</th>\n",
       "      <th>meter4</th>\n",
       "    </tr>\n",
       "  </thead>\n",
       "  <tbody>\n",
       "    <tr>\n",
       "      <th>A</th>\n",
       "      <td>0.390528</td>\n",
       "      <td>-2.711192</td>\n",
       "      <td>-1.522410</td>\n",
       "      <td>-1.416207</td>\n",
       "    </tr>\n",
       "    <tr>\n",
       "      <th>B</th>\n",
       "      <td>1.131029</td>\n",
       "      <td>0.498600</td>\n",
       "      <td>1.179022</td>\n",
       "      <td>1.322684</td>\n",
       "    </tr>\n",
       "    <tr>\n",
       "      <th>D</th>\n",
       "      <td>0.103214</td>\n",
       "      <td>-0.147370</td>\n",
       "      <td>1.131284</td>\n",
       "      <td>1.085839</td>\n",
       "    </tr>\n",
       "  </tbody>\n",
       "</table>\n",
       "</div>"
      ],
      "text/plain": [
       "     meter1    meter2    meter3    meter4\n",
       "A  0.390528 -2.711192 -1.522410 -1.416207\n",
       "B  1.131029  0.498600  1.179022  1.322684\n",
       "D  0.103214 -0.147370  1.131284  1.085839"
      ]
     },
     "execution_count": 43,
     "metadata": {},
     "output_type": "execute_result"
    }
   ],
   "source": [
    "meter1_positive"
   ]
  },
  {
   "cell_type": "code",
   "execution_count": 44,
   "metadata": {},
   "outputs": [
    {
     "data": {
      "text/html": [
       "<div>\n",
       "<style>\n",
       "    .dataframe thead tr:only-child th {\n",
       "        text-align: right;\n",
       "    }\n",
       "\n",
       "    .dataframe thead th {\n",
       "        text-align: left;\n",
       "    }\n",
       "\n",
       "    .dataframe tbody tr th {\n",
       "        vertical-align: top;\n",
       "    }\n",
       "</style>\n",
       "<table border=\"1\" class=\"dataframe\">\n",
       "  <thead>\n",
       "    <tr style=\"text-align: right;\">\n",
       "      <th></th>\n",
       "      <th>meter3</th>\n",
       "      <th>meter4</th>\n",
       "    </tr>\n",
       "  </thead>\n",
       "  <tbody>\n",
       "    <tr>\n",
       "      <th>A</th>\n",
       "      <td>-1.522410</td>\n",
       "      <td>-1.416207</td>\n",
       "    </tr>\n",
       "    <tr>\n",
       "      <th>B</th>\n",
       "      <td>1.179022</td>\n",
       "      <td>1.322684</td>\n",
       "    </tr>\n",
       "    <tr>\n",
       "      <th>D</th>\n",
       "      <td>1.131284</td>\n",
       "      <td>1.085839</td>\n",
       "    </tr>\n",
       "  </tbody>\n",
       "</table>\n",
       "</div>"
      ],
      "text/plain": [
       "     meter3    meter4\n",
       "A -1.522410 -1.416207\n",
       "B  1.179022  1.322684\n",
       "D  1.131284  1.085839"
      ]
     },
     "execution_count": 44,
     "metadata": {},
     "output_type": "execute_result"
    }
   ],
   "source": [
    "meter1_positive[['meter3','meter4']]"
   ]
  },
  {
   "cell_type": "code",
   "execution_count": 45,
   "metadata": {},
   "outputs": [
    {
     "data": {
      "text/html": [
       "<div>\n",
       "<style>\n",
       "    .dataframe thead tr:only-child th {\n",
       "        text-align: right;\n",
       "    }\n",
       "\n",
       "    .dataframe thead th {\n",
       "        text-align: left;\n",
       "    }\n",
       "\n",
       "    .dataframe tbody tr th {\n",
       "        vertical-align: top;\n",
       "    }\n",
       "</style>\n",
       "<table border=\"1\" class=\"dataframe\">\n",
       "  <thead>\n",
       "    <tr style=\"text-align: right;\">\n",
       "      <th></th>\n",
       "      <th>meter3</th>\n",
       "      <th>meter4</th>\n",
       "    </tr>\n",
       "  </thead>\n",
       "  <tbody>\n",
       "    <tr>\n",
       "      <th>A</th>\n",
       "      <td>-1.522410</td>\n",
       "      <td>-1.416207</td>\n",
       "    </tr>\n",
       "    <tr>\n",
       "      <th>B</th>\n",
       "      <td>1.179022</td>\n",
       "      <td>1.322684</td>\n",
       "    </tr>\n",
       "    <tr>\n",
       "      <th>D</th>\n",
       "      <td>1.131284</td>\n",
       "      <td>1.085839</td>\n",
       "    </tr>\n",
       "  </tbody>\n",
       "</table>\n",
       "</div>"
      ],
      "text/plain": [
       "     meter3    meter4\n",
       "A -1.522410 -1.416207\n",
       "B  1.179022  1.322684\n",
       "D  1.131284  1.085839"
      ]
     },
     "execution_count": 45,
     "metadata": {},
     "output_type": "execute_result"
    }
   ],
   "source": [
    "df[df['meter1']>0][['meter3','meter4']]"
   ]
  },
  {
   "cell_type": "code",
   "execution_count": 46,
   "metadata": {},
   "outputs": [
    {
     "data": {
      "text/html": [
       "<div>\n",
       "<style>\n",
       "    .dataframe thead tr:only-child th {\n",
       "        text-align: right;\n",
       "    }\n",
       "\n",
       "    .dataframe thead th {\n",
       "        text-align: left;\n",
       "    }\n",
       "\n",
       "    .dataframe tbody tr th {\n",
       "        vertical-align: top;\n",
       "    }\n",
       "</style>\n",
       "<table border=\"1\" class=\"dataframe\">\n",
       "  <thead>\n",
       "    <tr style=\"text-align: right;\">\n",
       "      <th></th>\n",
       "      <th>meter1</th>\n",
       "      <th>meter2</th>\n",
       "      <th>meter3</th>\n",
       "      <th>meter4</th>\n",
       "    </tr>\n",
       "  </thead>\n",
       "  <tbody>\n",
       "    <tr>\n",
       "      <th>A</th>\n",
       "      <td>0.390528</td>\n",
       "      <td>-2.711192</td>\n",
       "      <td>-1.522410</td>\n",
       "      <td>-1.416207</td>\n",
       "    </tr>\n",
       "    <tr>\n",
       "      <th>B</th>\n",
       "      <td>1.131029</td>\n",
       "      <td>0.498600</td>\n",
       "      <td>1.179022</td>\n",
       "      <td>1.322684</td>\n",
       "    </tr>\n",
       "    <tr>\n",
       "      <th>C</th>\n",
       "      <td>-0.892172</td>\n",
       "      <td>0.616861</td>\n",
       "      <td>-1.121822</td>\n",
       "      <td>1.652070</td>\n",
       "    </tr>\n",
       "    <tr>\n",
       "      <th>D</th>\n",
       "      <td>0.103214</td>\n",
       "      <td>-0.147370</td>\n",
       "      <td>1.131284</td>\n",
       "      <td>1.085839</td>\n",
       "    </tr>\n",
       "    <tr>\n",
       "      <th>E</th>\n",
       "      <td>-0.002963</td>\n",
       "      <td>-0.648177</td>\n",
       "      <td>-0.956150</td>\n",
       "      <td>1.610461</td>\n",
       "    </tr>\n",
       "  </tbody>\n",
       "</table>\n",
       "</div>"
      ],
      "text/plain": [
       "     meter1    meter2    meter3    meter4\n",
       "A  0.390528 -2.711192 -1.522410 -1.416207\n",
       "B  1.131029  0.498600  1.179022  1.322684\n",
       "C -0.892172  0.616861 -1.121822  1.652070\n",
       "D  0.103214 -0.147370  1.131284  1.085839\n",
       "E -0.002963 -0.648177 -0.956150  1.610461"
      ]
     },
     "execution_count": 46,
     "metadata": {},
     "output_type": "execute_result"
    }
   ],
   "source": [
    "df"
   ]
  },
  {
   "cell_type": "code",
   "execution_count": 47,
   "metadata": {},
   "outputs": [
    {
     "data": {
      "text/html": [
       "<div>\n",
       "<style>\n",
       "    .dataframe thead tr:only-child th {\n",
       "        text-align: right;\n",
       "    }\n",
       "\n",
       "    .dataframe thead th {\n",
       "        text-align: left;\n",
       "    }\n",
       "\n",
       "    .dataframe tbody tr th {\n",
       "        vertical-align: top;\n",
       "    }\n",
       "</style>\n",
       "<table border=\"1\" class=\"dataframe\">\n",
       "  <thead>\n",
       "    <tr style=\"text-align: right;\">\n",
       "      <th></th>\n",
       "      <th>meter1</th>\n",
       "      <th>meter2</th>\n",
       "      <th>meter3</th>\n",
       "      <th>meter4</th>\n",
       "    </tr>\n",
       "  </thead>\n",
       "  <tbody>\n",
       "    <tr>\n",
       "      <th>B</th>\n",
       "      <td>1.131029</td>\n",
       "      <td>0.49860</td>\n",
       "      <td>1.179022</td>\n",
       "      <td>1.322684</td>\n",
       "    </tr>\n",
       "    <tr>\n",
       "      <th>D</th>\n",
       "      <td>0.103214</td>\n",
       "      <td>-0.14737</td>\n",
       "      <td>1.131284</td>\n",
       "      <td>1.085839</td>\n",
       "    </tr>\n",
       "  </tbody>\n",
       "</table>\n",
       "</div>"
      ],
      "text/plain": [
       "     meter1   meter2    meter3    meter4\n",
       "B  1.131029  0.49860  1.179022  1.322684\n",
       "D  0.103214 -0.14737  1.131284  1.085839"
      ]
     },
     "execution_count": 47,
     "metadata": {},
     "output_type": "execute_result"
    }
   ],
   "source": [
    "# Multiple conditions\n",
    "df[(df['meter1']>0) & (df['meter2']>-1)]"
   ]
  },
  {
   "cell_type": "code",
   "execution_count": 48,
   "metadata": {
    "scrolled": true
   },
   "outputs": [
    {
     "data": {
      "text/html": [
       "<div>\n",
       "<style>\n",
       "    .dataframe thead tr:only-child th {\n",
       "        text-align: right;\n",
       "    }\n",
       "\n",
       "    .dataframe thead th {\n",
       "        text-align: left;\n",
       "    }\n",
       "\n",
       "    .dataframe tbody tr th {\n",
       "        vertical-align: top;\n",
       "    }\n",
       "</style>\n",
       "<table border=\"1\" class=\"dataframe\">\n",
       "  <thead>\n",
       "    <tr style=\"text-align: right;\">\n",
       "      <th></th>\n",
       "      <th>meter1</th>\n",
       "      <th>meter2</th>\n",
       "      <th>meter3</th>\n",
       "      <th>meter4</th>\n",
       "    </tr>\n",
       "  </thead>\n",
       "  <tbody>\n",
       "    <tr>\n",
       "      <th>A</th>\n",
       "      <td>0.390528</td>\n",
       "      <td>-2.711192</td>\n",
       "      <td>-1.522410</td>\n",
       "      <td>-1.416207</td>\n",
       "    </tr>\n",
       "    <tr>\n",
       "      <th>B</th>\n",
       "      <td>1.131029</td>\n",
       "      <td>0.498600</td>\n",
       "      <td>1.179022</td>\n",
       "      <td>1.322684</td>\n",
       "    </tr>\n",
       "    <tr>\n",
       "      <th>C</th>\n",
       "      <td>-0.892172</td>\n",
       "      <td>0.616861</td>\n",
       "      <td>-1.121822</td>\n",
       "      <td>1.652070</td>\n",
       "    </tr>\n",
       "    <tr>\n",
       "      <th>D</th>\n",
       "      <td>0.103214</td>\n",
       "      <td>-0.147370</td>\n",
       "      <td>1.131284</td>\n",
       "      <td>1.085839</td>\n",
       "    </tr>\n",
       "    <tr>\n",
       "      <th>E</th>\n",
       "      <td>-0.002963</td>\n",
       "      <td>-0.648177</td>\n",
       "      <td>-0.956150</td>\n",
       "      <td>1.610461</td>\n",
       "    </tr>\n",
       "  </tbody>\n",
       "</table>\n",
       "</div>"
      ],
      "text/plain": [
       "     meter1    meter2    meter3    meter4\n",
       "A  0.390528 -2.711192 -1.522410 -1.416207\n",
       "B  1.131029  0.498600  1.179022  1.322684\n",
       "C -0.892172  0.616861 -1.121822  1.652070\n",
       "D  0.103214 -0.147370  1.131284  1.085839\n",
       "E -0.002963 -0.648177 -0.956150  1.610461"
      ]
     },
     "execution_count": 48,
     "metadata": {},
     "output_type": "execute_result"
    }
   ],
   "source": [
    "df[(df['meter1']>0) | (df['meter2']>-1)]"
   ]
  },
  {
   "cell_type": "markdown",
   "metadata": {},
   "source": [
    "## DataFrame Index Edits"
   ]
  },
  {
   "cell_type": "code",
   "execution_count": 49,
   "metadata": {},
   "outputs": [
    {
     "data": {
      "text/html": [
       "<div>\n",
       "<style>\n",
       "    .dataframe thead tr:only-child th {\n",
       "        text-align: right;\n",
       "    }\n",
       "\n",
       "    .dataframe thead th {\n",
       "        text-align: left;\n",
       "    }\n",
       "\n",
       "    .dataframe tbody tr th {\n",
       "        vertical-align: top;\n",
       "    }\n",
       "</style>\n",
       "<table border=\"1\" class=\"dataframe\">\n",
       "  <thead>\n",
       "    <tr style=\"text-align: right;\">\n",
       "      <th></th>\n",
       "      <th>meter1</th>\n",
       "      <th>meter2</th>\n",
       "      <th>meter3</th>\n",
       "      <th>meter4</th>\n",
       "    </tr>\n",
       "  </thead>\n",
       "  <tbody>\n",
       "    <tr>\n",
       "      <th>A</th>\n",
       "      <td>0.390528</td>\n",
       "      <td>-2.711192</td>\n",
       "      <td>-1.522410</td>\n",
       "      <td>-1.416207</td>\n",
       "    </tr>\n",
       "    <tr>\n",
       "      <th>B</th>\n",
       "      <td>1.131029</td>\n",
       "      <td>0.498600</td>\n",
       "      <td>1.179022</td>\n",
       "      <td>1.322684</td>\n",
       "    </tr>\n",
       "    <tr>\n",
       "      <th>C</th>\n",
       "      <td>-0.892172</td>\n",
       "      <td>0.616861</td>\n",
       "      <td>-1.121822</td>\n",
       "      <td>1.652070</td>\n",
       "    </tr>\n",
       "    <tr>\n",
       "      <th>D</th>\n",
       "      <td>0.103214</td>\n",
       "      <td>-0.147370</td>\n",
       "      <td>1.131284</td>\n",
       "      <td>1.085839</td>\n",
       "    </tr>\n",
       "    <tr>\n",
       "      <th>E</th>\n",
       "      <td>-0.002963</td>\n",
       "      <td>-0.648177</td>\n",
       "      <td>-0.956150</td>\n",
       "      <td>1.610461</td>\n",
       "    </tr>\n",
       "  </tbody>\n",
       "</table>\n",
       "</div>"
      ],
      "text/plain": [
       "     meter1    meter2    meter3    meter4\n",
       "A  0.390528 -2.711192 -1.522410 -1.416207\n",
       "B  1.131029  0.498600  1.179022  1.322684\n",
       "C -0.892172  0.616861 -1.121822  1.652070\n",
       "D  0.103214 -0.147370  1.131284  1.085839\n",
       "E -0.002963 -0.648177 -0.956150  1.610461"
      ]
     },
     "execution_count": 49,
     "metadata": {},
     "output_type": "execute_result"
    }
   ],
   "source": [
    "df"
   ]
  },
  {
   "cell_type": "code",
   "execution_count": 50,
   "metadata": {},
   "outputs": [
    {
     "data": {
      "text/html": [
       "<div>\n",
       "<style>\n",
       "    .dataframe thead tr:only-child th {\n",
       "        text-align: right;\n",
       "    }\n",
       "\n",
       "    .dataframe thead th {\n",
       "        text-align: left;\n",
       "    }\n",
       "\n",
       "    .dataframe tbody tr th {\n",
       "        vertical-align: top;\n",
       "    }\n",
       "</style>\n",
       "<table border=\"1\" class=\"dataframe\">\n",
       "  <thead>\n",
       "    <tr style=\"text-align: right;\">\n",
       "      <th></th>\n",
       "      <th>index</th>\n",
       "      <th>meter1</th>\n",
       "      <th>meter2</th>\n",
       "      <th>meter3</th>\n",
       "      <th>meter4</th>\n",
       "    </tr>\n",
       "  </thead>\n",
       "  <tbody>\n",
       "    <tr>\n",
       "      <th>0</th>\n",
       "      <td>A</td>\n",
       "      <td>0.390528</td>\n",
       "      <td>-2.711192</td>\n",
       "      <td>-1.522410</td>\n",
       "      <td>-1.416207</td>\n",
       "    </tr>\n",
       "    <tr>\n",
       "      <th>1</th>\n",
       "      <td>B</td>\n",
       "      <td>1.131029</td>\n",
       "      <td>0.498600</td>\n",
       "      <td>1.179022</td>\n",
       "      <td>1.322684</td>\n",
       "    </tr>\n",
       "    <tr>\n",
       "      <th>2</th>\n",
       "      <td>C</td>\n",
       "      <td>-0.892172</td>\n",
       "      <td>0.616861</td>\n",
       "      <td>-1.121822</td>\n",
       "      <td>1.652070</td>\n",
       "    </tr>\n",
       "    <tr>\n",
       "      <th>3</th>\n",
       "      <td>D</td>\n",
       "      <td>0.103214</td>\n",
       "      <td>-0.147370</td>\n",
       "      <td>1.131284</td>\n",
       "      <td>1.085839</td>\n",
       "    </tr>\n",
       "    <tr>\n",
       "      <th>4</th>\n",
       "      <td>E</td>\n",
       "      <td>-0.002963</td>\n",
       "      <td>-0.648177</td>\n",
       "      <td>-0.956150</td>\n",
       "      <td>1.610461</td>\n",
       "    </tr>\n",
       "  </tbody>\n",
       "</table>\n",
       "</div>"
      ],
      "text/plain": [
       "  index    meter1    meter2    meter3    meter4\n",
       "0     A  0.390528 -2.711192 -1.522410 -1.416207\n",
       "1     B  1.131029  0.498600  1.179022  1.322684\n",
       "2     C -0.892172  0.616861 -1.121822  1.652070\n",
       "3     D  0.103214 -0.147370  1.131284  1.085839\n",
       "4     E -0.002963 -0.648177 -0.956150  1.610461"
      ]
     },
     "execution_count": 50,
     "metadata": {},
     "output_type": "execute_result"
    }
   ],
   "source": [
    "df.reset_index()"
   ]
  },
  {
   "cell_type": "code",
   "execution_count": 51,
   "metadata": {},
   "outputs": [
    {
     "data": {
      "text/html": [
       "<div>\n",
       "<style>\n",
       "    .dataframe thead tr:only-child th {\n",
       "        text-align: right;\n",
       "    }\n",
       "\n",
       "    .dataframe thead th {\n",
       "        text-align: left;\n",
       "    }\n",
       "\n",
       "    .dataframe tbody tr th {\n",
       "        vertical-align: top;\n",
       "    }\n",
       "</style>\n",
       "<table border=\"1\" class=\"dataframe\">\n",
       "  <thead>\n",
       "    <tr style=\"text-align: right;\">\n",
       "      <th></th>\n",
       "      <th>meter1</th>\n",
       "      <th>meter2</th>\n",
       "      <th>meter3</th>\n",
       "      <th>meter4</th>\n",
       "    </tr>\n",
       "  </thead>\n",
       "  <tbody>\n",
       "    <tr>\n",
       "      <th>A</th>\n",
       "      <td>0.390528</td>\n",
       "      <td>-2.711192</td>\n",
       "      <td>-1.522410</td>\n",
       "      <td>-1.416207</td>\n",
       "    </tr>\n",
       "    <tr>\n",
       "      <th>B</th>\n",
       "      <td>1.131029</td>\n",
       "      <td>0.498600</td>\n",
       "      <td>1.179022</td>\n",
       "      <td>1.322684</td>\n",
       "    </tr>\n",
       "    <tr>\n",
       "      <th>C</th>\n",
       "      <td>-0.892172</td>\n",
       "      <td>0.616861</td>\n",
       "      <td>-1.121822</td>\n",
       "      <td>1.652070</td>\n",
       "    </tr>\n",
       "    <tr>\n",
       "      <th>D</th>\n",
       "      <td>0.103214</td>\n",
       "      <td>-0.147370</td>\n",
       "      <td>1.131284</td>\n",
       "      <td>1.085839</td>\n",
       "    </tr>\n",
       "    <tr>\n",
       "      <th>E</th>\n",
       "      <td>-0.002963</td>\n",
       "      <td>-0.648177</td>\n",
       "      <td>-0.956150</td>\n",
       "      <td>1.610461</td>\n",
       "    </tr>\n",
       "  </tbody>\n",
       "</table>\n",
       "</div>"
      ],
      "text/plain": [
       "     meter1    meter2    meter3    meter4\n",
       "A  0.390528 -2.711192 -1.522410 -1.416207\n",
       "B  1.131029  0.498600  1.179022  1.322684\n",
       "C -0.892172  0.616861 -1.121822  1.652070\n",
       "D  0.103214 -0.147370  1.131284  1.085839\n",
       "E -0.002963 -0.648177 -0.956150  1.610461"
      ]
     },
     "execution_count": 51,
     "metadata": {},
     "output_type": "execute_result"
    }
   ],
   "source": [
    "df"
   ]
  },
  {
   "cell_type": "code",
   "execution_count": 52,
   "metadata": {
    "collapsed": true
   },
   "outputs": [],
   "source": [
    "df.reset_index(inplace=True)"
   ]
  },
  {
   "cell_type": "code",
   "execution_count": 53,
   "metadata": {},
   "outputs": [
    {
     "data": {
      "text/html": [
       "<div>\n",
       "<style>\n",
       "    .dataframe thead tr:only-child th {\n",
       "        text-align: right;\n",
       "    }\n",
       "\n",
       "    .dataframe thead th {\n",
       "        text-align: left;\n",
       "    }\n",
       "\n",
       "    .dataframe tbody tr th {\n",
       "        vertical-align: top;\n",
       "    }\n",
       "</style>\n",
       "<table border=\"1\" class=\"dataframe\">\n",
       "  <thead>\n",
       "    <tr style=\"text-align: right;\">\n",
       "      <th></th>\n",
       "      <th>index</th>\n",
       "      <th>meter1</th>\n",
       "      <th>meter2</th>\n",
       "      <th>meter3</th>\n",
       "      <th>meter4</th>\n",
       "    </tr>\n",
       "  </thead>\n",
       "  <tbody>\n",
       "    <tr>\n",
       "      <th>0</th>\n",
       "      <td>A</td>\n",
       "      <td>0.390528</td>\n",
       "      <td>-2.711192</td>\n",
       "      <td>-1.522410</td>\n",
       "      <td>-1.416207</td>\n",
       "    </tr>\n",
       "    <tr>\n",
       "      <th>1</th>\n",
       "      <td>B</td>\n",
       "      <td>1.131029</td>\n",
       "      <td>0.498600</td>\n",
       "      <td>1.179022</td>\n",
       "      <td>1.322684</td>\n",
       "    </tr>\n",
       "    <tr>\n",
       "      <th>2</th>\n",
       "      <td>C</td>\n",
       "      <td>-0.892172</td>\n",
       "      <td>0.616861</td>\n",
       "      <td>-1.121822</td>\n",
       "      <td>1.652070</td>\n",
       "    </tr>\n",
       "    <tr>\n",
       "      <th>3</th>\n",
       "      <td>D</td>\n",
       "      <td>0.103214</td>\n",
       "      <td>-0.147370</td>\n",
       "      <td>1.131284</td>\n",
       "      <td>1.085839</td>\n",
       "    </tr>\n",
       "    <tr>\n",
       "      <th>4</th>\n",
       "      <td>E</td>\n",
       "      <td>-0.002963</td>\n",
       "      <td>-0.648177</td>\n",
       "      <td>-0.956150</td>\n",
       "      <td>1.610461</td>\n",
       "    </tr>\n",
       "  </tbody>\n",
       "</table>\n",
       "</div>"
      ],
      "text/plain": [
       "  index    meter1    meter2    meter3    meter4\n",
       "0     A  0.390528 -2.711192 -1.522410 -1.416207\n",
       "1     B  1.131029  0.498600  1.179022  1.322684\n",
       "2     C -0.892172  0.616861 -1.121822  1.652070\n",
       "3     D  0.103214 -0.147370  1.131284  1.085839\n",
       "4     E -0.002963 -0.648177 -0.956150  1.610461"
      ]
     },
     "execution_count": 53,
     "metadata": {},
     "output_type": "execute_result"
    }
   ],
   "source": [
    "df"
   ]
  },
  {
   "cell_type": "code",
   "execution_count": 54,
   "metadata": {
    "collapsed": true
   },
   "outputs": [],
   "source": [
    "newInd = ['aa','bb','cc','dd','ee']"
   ]
  },
  {
   "cell_type": "code",
   "execution_count": 55,
   "metadata": {
    "collapsed": true
   },
   "outputs": [],
   "source": [
    "df['newInd'] = newInd"
   ]
  },
  {
   "cell_type": "code",
   "execution_count": 56,
   "metadata": {},
   "outputs": [
    {
     "data": {
      "text/html": [
       "<div>\n",
       "<style>\n",
       "    .dataframe thead tr:only-child th {\n",
       "        text-align: right;\n",
       "    }\n",
       "\n",
       "    .dataframe thead th {\n",
       "        text-align: left;\n",
       "    }\n",
       "\n",
       "    .dataframe tbody tr th {\n",
       "        vertical-align: top;\n",
       "    }\n",
       "</style>\n",
       "<table border=\"1\" class=\"dataframe\">\n",
       "  <thead>\n",
       "    <tr style=\"text-align: right;\">\n",
       "      <th></th>\n",
       "      <th>index</th>\n",
       "      <th>meter1</th>\n",
       "      <th>meter2</th>\n",
       "      <th>meter3</th>\n",
       "      <th>meter4</th>\n",
       "      <th>newInd</th>\n",
       "    </tr>\n",
       "  </thead>\n",
       "  <tbody>\n",
       "    <tr>\n",
       "      <th>0</th>\n",
       "      <td>A</td>\n",
       "      <td>0.390528</td>\n",
       "      <td>-2.711192</td>\n",
       "      <td>-1.522410</td>\n",
       "      <td>-1.416207</td>\n",
       "      <td>aa</td>\n",
       "    </tr>\n",
       "    <tr>\n",
       "      <th>1</th>\n",
       "      <td>B</td>\n",
       "      <td>1.131029</td>\n",
       "      <td>0.498600</td>\n",
       "      <td>1.179022</td>\n",
       "      <td>1.322684</td>\n",
       "      <td>bb</td>\n",
       "    </tr>\n",
       "    <tr>\n",
       "      <th>2</th>\n",
       "      <td>C</td>\n",
       "      <td>-0.892172</td>\n",
       "      <td>0.616861</td>\n",
       "      <td>-1.121822</td>\n",
       "      <td>1.652070</td>\n",
       "      <td>cc</td>\n",
       "    </tr>\n",
       "    <tr>\n",
       "      <th>3</th>\n",
       "      <td>D</td>\n",
       "      <td>0.103214</td>\n",
       "      <td>-0.147370</td>\n",
       "      <td>1.131284</td>\n",
       "      <td>1.085839</td>\n",
       "      <td>dd</td>\n",
       "    </tr>\n",
       "    <tr>\n",
       "      <th>4</th>\n",
       "      <td>E</td>\n",
       "      <td>-0.002963</td>\n",
       "      <td>-0.648177</td>\n",
       "      <td>-0.956150</td>\n",
       "      <td>1.610461</td>\n",
       "      <td>ee</td>\n",
       "    </tr>\n",
       "  </tbody>\n",
       "</table>\n",
       "</div>"
      ],
      "text/plain": [
       "  index    meter1    meter2    meter3    meter4 newInd\n",
       "0     A  0.390528 -2.711192 -1.522410 -1.416207     aa\n",
       "1     B  1.131029  0.498600  1.179022  1.322684     bb\n",
       "2     C -0.892172  0.616861 -1.121822  1.652070     cc\n",
       "3     D  0.103214 -0.147370  1.131284  1.085839     dd\n",
       "4     E -0.002963 -0.648177 -0.956150  1.610461     ee"
      ]
     },
     "execution_count": 56,
     "metadata": {},
     "output_type": "execute_result"
    }
   ],
   "source": [
    "df"
   ]
  },
  {
   "cell_type": "code",
   "execution_count": 57,
   "metadata": {
    "collapsed": true
   },
   "outputs": [],
   "source": [
    "df.set_index('newInd', inplace=True)"
   ]
  },
  {
   "cell_type": "code",
   "execution_count": 58,
   "metadata": {},
   "outputs": [
    {
     "data": {
      "text/html": [
       "<div>\n",
       "<style>\n",
       "    .dataframe thead tr:only-child th {\n",
       "        text-align: right;\n",
       "    }\n",
       "\n",
       "    .dataframe thead th {\n",
       "        text-align: left;\n",
       "    }\n",
       "\n",
       "    .dataframe tbody tr th {\n",
       "        vertical-align: top;\n",
       "    }\n",
       "</style>\n",
       "<table border=\"1\" class=\"dataframe\">\n",
       "  <thead>\n",
       "    <tr style=\"text-align: right;\">\n",
       "      <th></th>\n",
       "      <th>index</th>\n",
       "      <th>meter1</th>\n",
       "      <th>meter2</th>\n",
       "      <th>meter3</th>\n",
       "      <th>meter4</th>\n",
       "    </tr>\n",
       "    <tr>\n",
       "      <th>newInd</th>\n",
       "      <th></th>\n",
       "      <th></th>\n",
       "      <th></th>\n",
       "      <th></th>\n",
       "      <th></th>\n",
       "    </tr>\n",
       "  </thead>\n",
       "  <tbody>\n",
       "    <tr>\n",
       "      <th>aa</th>\n",
       "      <td>A</td>\n",
       "      <td>0.390528</td>\n",
       "      <td>-2.711192</td>\n",
       "      <td>-1.522410</td>\n",
       "      <td>-1.416207</td>\n",
       "    </tr>\n",
       "    <tr>\n",
       "      <th>bb</th>\n",
       "      <td>B</td>\n",
       "      <td>1.131029</td>\n",
       "      <td>0.498600</td>\n",
       "      <td>1.179022</td>\n",
       "      <td>1.322684</td>\n",
       "    </tr>\n",
       "    <tr>\n",
       "      <th>cc</th>\n",
       "      <td>C</td>\n",
       "      <td>-0.892172</td>\n",
       "      <td>0.616861</td>\n",
       "      <td>-1.121822</td>\n",
       "      <td>1.652070</td>\n",
       "    </tr>\n",
       "    <tr>\n",
       "      <th>dd</th>\n",
       "      <td>D</td>\n",
       "      <td>0.103214</td>\n",
       "      <td>-0.147370</td>\n",
       "      <td>1.131284</td>\n",
       "      <td>1.085839</td>\n",
       "    </tr>\n",
       "    <tr>\n",
       "      <th>ee</th>\n",
       "      <td>E</td>\n",
       "      <td>-0.002963</td>\n",
       "      <td>-0.648177</td>\n",
       "      <td>-0.956150</td>\n",
       "      <td>1.610461</td>\n",
       "    </tr>\n",
       "  </tbody>\n",
       "</table>\n",
       "</div>"
      ],
      "text/plain": [
       "       index    meter1    meter2    meter3    meter4\n",
       "newInd                                              \n",
       "aa         A  0.390528 -2.711192 -1.522410 -1.416207\n",
       "bb         B  1.131029  0.498600  1.179022  1.322684\n",
       "cc         C -0.892172  0.616861 -1.121822  1.652070\n",
       "dd         D  0.103214 -0.147370  1.131284  1.085839\n",
       "ee         E -0.002963 -0.648177 -0.956150  1.610461"
      ]
     },
     "execution_count": 58,
     "metadata": {},
     "output_type": "execute_result"
    }
   ],
   "source": [
    "df"
   ]
  },
  {
   "cell_type": "code",
   "execution_count": null,
   "metadata": {
    "collapsed": true
   },
   "outputs": [],
   "source": []
  }
 ],
 "metadata": {
  "kernelspec": {
   "display_name": "Python 3",
   "language": "python",
   "name": "python3"
  },
  "language_info": {
   "codemirror_mode": {
    "name": "ipython",
    "version": 3
   },
   "file_extension": ".py",
   "mimetype": "text/x-python",
   "name": "python",
   "nbconvert_exporter": "python",
   "pygments_lexer": "ipython3",
   "version": "3.6.1"
  }
 },
 "nbformat": 4,
 "nbformat_minor": 2
}
